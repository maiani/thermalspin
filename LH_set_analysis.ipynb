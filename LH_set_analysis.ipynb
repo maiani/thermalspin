{
 "cells": [
  {
   "cell_type": "markdown",
   "metadata": {},
   "source": [
    "#     RESULTS OF THE  SET OF SIMULATIONS"
   ]
  },
  {
   "cell_type": "markdown",
   "metadata": {},
   "source": [
    "## Loading results"
   ]
  },
  {
   "cell_type": "code",
   "execution_count": null,
   "metadata": {},
   "outputs": [],
   "source": [
    "%matplotlib notebook"
   ]
  },
  {
   "cell_type": "code",
   "execution_count": null,
   "metadata": {},
   "outputs": [],
   "source": [
    "import numpy as np\n",
    "import matplotlib.pyplot as plt\n",
    "from data_analysis  import *"
   ]
  },
  {
   "cell_type": "code",
   "execution_count": null,
   "metadata": {},
   "outputs": [],
   "source": [
    "# Insert here the name of the simulation set\n",
    "setname = \"critic\""
   ]
  },
  {
   "cell_type": "code",
   "execution_count": null,
   "metadata": {},
   "outputs": [],
   "source": [
    "final_state_lst, L_lst, t_lst, J_lst, h_lst, T_lst, e_lst, m_lst = load_set_results(setname)"
   ]
  },
  {
   "cell_type": "code",
   "execution_count": null,
   "metadata": {},
   "outputs": [],
   "source": [
    "L, H, t_whole, J_whole, T_whole, e_whole, m_whole, final_state = arrange_set_results_LH(L_lst, t_lst, J_lst, h_lst, T_lst, e_lst, m_lst, final_state_lst)\n",
    "L_num = t_whole.shape[0]\n",
    "H_num = t_whole.shape[1]\n",
    "t_num = t_whole.shape[2]"
   ]
  },
  {
   "cell_type": "markdown",
   "metadata": {},
   "source": [
    "## Global behaviour"
   ]
  },
  {
   "cell_type": "code",
   "execution_count": null,
   "metadata": {},
   "outputs": [],
   "source": [
    "fig = plt.figure(figsize=(10,6))\n",
    "ax = plt.subplot(111)\n",
    "for i,j in np.ndindex(L_num, H_num):\n",
    "    ax.plot(t_whole[i,j], e_whole[i,j], label=f\"L = {L[i]}, H = {H[j]}\")\n",
    "box = ax.get_position()\n",
    "ax.set_position([box.x0, box.y0, box.width * 0.8, box.height])\n",
    "ax.legend(loc='center left', bbox_to_anchor=(1, 0.5))\n",
    "plt.xlabel(\"Step\")\n",
    "plt.ylabel(\"Energy\")\n",
    "plt.grid()\n",
    "plt.show()"
   ]
  },
  {
   "cell_type": "code",
   "execution_count": null,
   "metadata": {},
   "outputs": [],
   "source": [
    "m_magnitude_whole = np.sqrt(np.sum(m_whole**2, axis = 3))"
   ]
  },
  {
   "cell_type": "code",
   "execution_count": null,
   "metadata": {},
   "outputs": [],
   "source": [
    "fig = plt.figure(figsize=(10,6))\n",
    "ax = plt.subplot(111)\n",
    "for i,j in np.ndindex(L_num, H_num):\n",
    "    ax.plot(t_whole[i,j], m_magnitude_whole[i,j], label=f\"L = {L[i]}, H = {H[j]}\")\n",
    "box = ax.get_position()\n",
    "ax.set_position([box.x0, box.y0, box.width * 0.8, box.height])\n",
    "ax.legend(loc='center left', bbox_to_anchor=(1, 0.5))\n",
    "plt.xlabel(\"Step\")\n",
    "plt.ylabel(\"Absolute magnetization\")\n",
    "plt.grid()\n",
    "plt.show()"
   ]
  },
  {
   "cell_type": "markdown",
   "metadata": {},
   "source": [
    "## Single ensemble analysis"
   ]
  },
  {
   "cell_type": "code",
   "execution_count": null,
   "metadata": {},
   "outputs": [],
   "source": [
    "# Insert here index of the ensemble to be analyzed \n",
    "L_idx = 0\n",
    "H_idx = 0"
   ]
  },
  {
   "cell_type": "code",
   "execution_count": null,
   "metadata": {},
   "outputs": [],
   "source": [
    "fig = plt.figure(figsize=(10,6))\n",
    "ax = plt.subplot(111)\n",
    "ax.plot(t_whole[L_idx, H_idx], e_whole[L_idx, H_idx], label=f\"L = {L[L_idx]}, H = {H[H_idx]}\")\n",
    "ax.legend()\n",
    "plt.ylabel(\"Energy\")\n",
    "plt.xlabel(\"Steps\")\n",
    "plt.title(\"Energy\")\n",
    "plt.grid()\n",
    "plt.show()"
   ]
  },
  {
   "cell_type": "code",
   "execution_count": null,
   "metadata": {},
   "outputs": [],
   "source": [
    "fig = plt.figure(figsize=(10,6))\n",
    "ax = plt.subplot(111)\n",
    "ax.plot(t_whole[L_idx, H_idx], m_whole[L_idx, H_idx, :, 0], label = r\"$M_x$\")\n",
    "ax.plot(t_whole[L_idx, H_idx], m_whole[L_idx, H_idx, :, 1], label = r\"$M_y$\")\n",
    "ax.plot(t_whole[L_idx, H_idx], m_whole[L_idx, H_idx, :, 2], label = r\"$M_z$\")\n",
    "plt.legend()\n",
    "plt.ylabel(\"Magnetization\")\n",
    "plt.xlabel(\"Steps\")\n",
    "plt.title(\"Magnetization\")\n",
    "plt.grid()\n",
    "plt.show()"
   ]
  },
  {
   "cell_type": "code",
   "execution_count": null,
   "metadata": {},
   "outputs": [],
   "source": [
    "fig = plt.figure(figsize=(10,6))\n",
    "ax = plt.subplot(111)\n",
    "ax.plot(t_whole[L_idx, H_idx], np.abs(m_whole[L_idx, H_idx, :, 0]), label = r\"$|M_x|$\")\n",
    "ax.plot(t_whole[L_idx, H_idx], np.abs(m_whole[L_idx, H_idx, :, 1]), label = r\"$|M_y|$\")\n",
    "ax.plot(t_whole[L_idx, H_idx], np.abs(m_whole[L_idx, H_idx, :, 2]), label = r\"$|M_z|$\")\n",
    "plt.legend()\n",
    "plt.ylabel(\"Absolute magnetization\")\n",
    "plt.xlabel(\"Steps\")\n",
    "plt.title(\"Absolute magnetization\")\n",
    "plt.grid()\n",
    "plt.show()"
   ]
  },
  {
   "cell_type": "code",
   "execution_count": null,
   "metadata": {},
   "outputs": [],
   "source": [
    "plot_state(final_state[L_idx][H_idx])"
   ]
  },
  {
   "cell_type": "code",
   "execution_count": null,
   "metadata": {},
   "outputs": [],
   "source": [
    "plot_spin_directions(final_state[L_idx][H_idx])"
   ]
  },
  {
   "cell_type": "markdown",
   "metadata": {},
   "source": [
    "## System results"
   ]
  },
  {
   "cell_type": "code",
   "execution_count": null,
   "metadata": {},
   "outputs": [],
   "source": [
    "# SELECT WARMUP PERIOD TO LAST UNTIL STEP NUMBER warmup_final_step\n",
    "warmup_final_step = 3e7\n",
    "warmup_final_idx = np.argmax(np.equal(t_whole[0,0], warmup_final_step))\n",
    "t = t_whole[:, :, warmup_final_idx:]\n",
    "e = e_whole[:, :, warmup_final_idx:]\n",
    "m = m_whole[:, :, warmup_final_idx:]"
   ]
  },
  {
   "cell_type": "code",
   "execution_count": null,
   "metadata": {},
   "outputs": [],
   "source": [
    "e_mean = np.mean(e, axis=2)\n",
    "m_mean = np.mean(m, axis=2)\n",
    "m_rmsd = np.sqrt(np.var(m, axis=2))\n",
    "m_magnitude = np.sqrt(np.sum(m**2, axis = 3))\n",
    "m_magnitude_mean = np.mean(m_magnitude, axis=2)"
   ]
  },
  {
   "cell_type": "markdown",
   "metadata": {},
   "source": [
    "### Mean energy"
   ]
  },
  {
   "cell_type": "code",
   "execution_count": null,
   "metadata": {},
   "outputs": [],
   "source": [
    "fig = plt.figure(figsize=(10,6))\n",
    "ax = plt.subplot(111)\n",
    "for i in np.ndindex(L_num):\n",
    "    ax.plot(H, e_mean[i], \"o--\", label=f\"L = {L[i]}\")\n",
    "box = ax.get_position()\n",
    "ax.set_position([box.x0, box.y0, box.width * 0.8, box.height])\n",
    "ax.legend(loc='center left', bbox_to_anchor=(1, 0.5))\n",
    "plt.xlabel(r\"$H_z$\")\n",
    "plt.ylabel(\"Mean energy\")\n",
    "plt.grid()\n",
    "plt.show()"
   ]
  },
  {
   "cell_type": "markdown",
   "metadata": {},
   "source": [
    "### Mean magnetization magnitude"
   ]
  },
  {
   "cell_type": "code",
   "execution_count": null,
   "metadata": {},
   "outputs": [],
   "source": [
    "fig = plt.figure(figsize=(10,6))\n",
    "ax = plt.subplot(111)\n",
    "for i in np.ndindex(L_num):\n",
    "    ax.plot(H, m_magnitude_mean[i], \"o--\", label=f\"L = {L[i]}\")\n",
    "box = ax.get_position()\n",
    "ax.set_position([box.x0, box.y0, box.width * 0.8, box.height])\n",
    "ax.legend(loc='center left', bbox_to_anchor=(1, 0.5))\n",
    "plt.xlabel(r\"$H_z$\")\n",
    "plt.ylabel(\"Mean magnetization magnitude\")\n",
    "plt.grid()\n",
    "plt.show()"
   ]
  },
  {
   "cell_type": "code",
   "execution_count": null,
   "metadata": {},
   "outputs": [],
   "source": []
  }
 ],
 "metadata": {
  "kernelspec": {
   "display_name": "Python 3",
   "language": "python",
   "name": "python3"
  },
  "language_info": {
   "codemirror_mode": {
    "name": "ipython",
    "version": 3
   },
   "file_extension": ".py",
   "mimetype": "text/x-python",
   "name": "python",
   "nbconvert_exporter": "python",
   "pygments_lexer": "ipython3",
   "version": "3.6.6"
  }
 },
 "nbformat": 4,
 "nbformat_minor": 2
}
