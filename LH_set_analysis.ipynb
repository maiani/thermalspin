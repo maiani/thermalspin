{
 "cells": [
  {
   "cell_type": "markdown",
   "metadata": {},
   "source": [
    "#     RESULTS OF THE  SET OF SIMULATIONS"
   ]
  },
  {
   "cell_type": "markdown",
   "metadata": {},
   "source": [
    "## Loading results"
   ]
  },
  {
   "cell_type": "code",
   "execution_count": null,
   "metadata": {},
   "outputs": [],
   "source": [
    "%matplotlib notebook"
   ]
  },
  {
   "cell_type": "code",
   "execution_count": null,
   "metadata": {},
   "outputs": [],
   "source": [
    "import numpy as np\n",
    "import scipy.stats as stats\n",
    "import matplotlib.pyplot as plt\n",
    "from thermalspin.data_analysis  import *\n"
   ]
  },
  {
   "cell_type": "code",
   "execution_count": null,
   "metadata": {},
   "outputs": [],
   "source": [
    "# Insert here the name of the simulation set\n",
    "setname = \"ferro_critic_set\""
   ]
  },
  {
   "cell_type": "code",
   "execution_count": null,
   "metadata": {},
   "outputs": [],
   "source": [
    "final_state_lst, L_lst, t_lst, J_lst, h_lst, T_lst, e_lst, m_lst, snp_lst = load_set_results(setname, load_set_snapshots=False)"
   ]
  },
  {
   "cell_type": "code",
   "execution_count": null,
   "metadata": {},
   "outputs": [],
   "source": [
    "L, H, t_whole, J_whole, T_whole, e_whole, m_whole, final_state, snp = arrange_set_results_LH(L_lst, t_lst, J_lst, h_lst, T_lst, e_lst, m_lst, final_state_lst)\n",
    "L_num = t_whole.shape[0]\n",
    "H_num = t_whole.shape[1]\n",
    "t_num = t_whole.shape[2]"
   ]
  },
  {
   "cell_type": "markdown",
   "metadata": {},
   "source": [
    "## Global behaviour"
   ]
  },
  {
   "cell_type": "code",
   "execution_count": null,
   "metadata": {},
   "outputs": [],
   "source": [
    "fig = plt.figure(figsize=(8,5))\n",
    "ax = plt.subplot(111)\n",
    "for i,j in np.ndindex(L_num, H_num):\n",
    "    ax.plot(t_whole[i,j], e_whole[i,j], label=f\"L = {L[i]}, H = {H[j]}\")\n",
    "box = ax.get_position()\n",
    "ax.set_position([box.x0, box.y0, box.width * 0.8, box.height])\n",
    "ax.legend(loc='center left', bbox_to_anchor=(1, 0.5))\n",
    "plt.xlabel(\"Step\")\n",
    "plt.ylabel(\"Energy\")\n",
    "plt.grid()\n",
    "plt.show()"
   ]
  },
  {
   "cell_type": "code",
   "execution_count": null,
   "metadata": {},
   "outputs": [],
   "source": [
    "m_magnitude_whole = np.sqrt(np.sum(m_whole**2, axis = 3))"
   ]
  },
  {
   "cell_type": "code",
   "execution_count": null,
   "metadata": {},
   "outputs": [],
   "source": [
    "fig = plt.figure(figsize=(8,5))\n",
    "ax = plt.subplot(111)\n",
    "for i,j in np.ndindex(L_num, H_num):\n",
    "    ax.plot(t_whole[i,j], m_magnitude_whole[i,j], label=f\"L = {L[i]}, H = {H[j]}\")\n",
    "box = ax.get_position()\n",
    "ax.set_position([box.x0, box.y0, box.width * 0.8, box.height])\n",
    "ax.legend(loc='center left', bbox_to_anchor=(1, 0.5))\n",
    "plt.xlabel(\"Step\")\n",
    "plt.ylabel(\"Absolute magnetization\")\n",
    "plt.grid()\n",
    "plt.show()"
   ]
  },
  {
   "cell_type": "markdown",
   "metadata": {},
   "source": [
    "## Single ensemble analysis"
   ]
  },
  {
   "cell_type": "code",
   "execution_count": null,
   "metadata": {},
   "outputs": [],
   "source": [
    "# Insert here index of the ensemble to be analyzed \n",
    "L_idx = 0\n",
    "H_idx = 0"
   ]
  },
  {
   "cell_type": "code",
   "execution_count": null,
   "metadata": {},
   "outputs": [],
   "source": [
    "fig = plt.figure(figsize=(10,6))\n",
    "ax = plt.subplot(111)\n",
    "ax.plot(t_whole[L_idx, H_idx], e_whole[L_idx, H_idx], label=f\"L = {L[L_idx]}, H = {H[H_idx]}\")\n",
    "ax.legend()\n",
    "plt.ylabel(\"Energy\")\n",
    "plt.xlabel(\"Steps\")\n",
    "plt.title(\"Energy\")\n",
    "plt.grid()\n",
    "plt.show()"
   ]
  },
  {
   "cell_type": "code",
   "execution_count": null,
   "metadata": {},
   "outputs": [],
   "source": [
    "fig = plt.figure(figsize=(10,6))\n",
    "ax = plt.subplot(111)\n",
    "ax.plot(t_whole[L_idx, H_idx], m_whole[L_idx, H_idx, :, 0], label = r\"$M_x$\")\n",
    "ax.plot(t_whole[L_idx, H_idx], m_whole[L_idx, H_idx, :, 1], label = r\"$M_y$\")\n",
    "ax.plot(t_whole[L_idx, H_idx], m_whole[L_idx, H_idx, :, 2], label = r\"$M_z$\")\n",
    "plt.legend()\n",
    "plt.ylabel(\"Magnetization\")\n",
    "plt.xlabel(\"Steps\")\n",
    "plt.title(\"Magnetization\")\n",
    "plt.grid()\n",
    "plt.show()"
   ]
  },
  {
   "cell_type": "code",
   "execution_count": null,
   "metadata": {},
   "outputs": [],
   "source": [
    "fig = plt.figure(figsize=(10,6))\n",
    "ax = plt.subplot(111)\n",
    "ax.plot(t_whole[L_idx, H_idx], np.abs(m_whole[L_idx, H_idx, :, 0]), label = r\"$|M_x|$\")\n",
    "ax.plot(t_whole[L_idx, H_idx], np.abs(m_whole[L_idx, H_idx, :, 1]), label = r\"$|M_y|$\")\n",
    "ax.plot(t_whole[L_idx, H_idx], np.abs(m_whole[L_idx, H_idx, :, 2]), label = r\"$|M_z|$\")\n",
    "plt.legend()\n",
    "plt.ylabel(\"Absolute magnetization\")\n",
    "plt.xlabel(\"Steps\")\n",
    "plt.title(\"Absolute magnetization\")\n",
    "plt.grid()\n",
    "plt.show()"
   ]
  },
  {
   "cell_type": "code",
   "execution_count": null,
   "metadata": {},
   "outputs": [],
   "source": [
    "plot_state(final_state[L_idx][H_idx])"
   ]
  },
  {
   "cell_type": "code",
   "execution_count": null,
   "metadata": {},
   "outputs": [],
   "source": [
    "plot_spin_directions(final_state[L_idx][H_idx])"
   ]
  },
  {
   "cell_type": "markdown",
   "metadata": {},
   "source": [
    "## Set results"
   ]
  },
  {
   "cell_type": "code",
   "execution_count": null,
   "metadata": {},
   "outputs": [],
   "source": [
    "# SELECT WARMUP PERIOD TO LAST UNTIL STEP NUMBER warmup_final_step\n",
    "warmup_final_step = np.argmax(t_whole[0,0]==1e7)\n",
    "warmup_final_idx = np.argmax(np.equal(t_whole[0,0], warmup_final_step))\n",
    "t = t_whole[:, :, warmup_final_idx:]\n",
    "e = e_whole[:, :, warmup_final_idx:]\n",
    "m = m_whole[:, :, warmup_final_idx:]"
   ]
  },
  {
   "cell_type": "code",
   "execution_count": null,
   "metadata": {},
   "outputs": [],
   "source": [
    "e_mean = np.mean(e, axis=2)\n",
    "e_std  = np.sqrt(np.var(e, axis=2))\n",
    "m_mean = np.mean(m, axis=2)\n",
    "m_rmsd = np.sqrt(np.var(m, axis=2))\n",
    "m_magnitude = np.sqrt(np.sum(m**2, axis = 3))\n",
    "m_magnitude_mean = np.mean(m_magnitude, axis=2)\n",
    "m_magnitude_var = np.sqrt(np.var(m_magnitude, axis=2))"
   ]
  },
  {
   "cell_type": "markdown",
   "metadata": {},
   "source": [
    "### Mean energy"
   ]
  },
  {
   "cell_type": "code",
   "execution_count": null,
   "metadata": {},
   "outputs": [],
   "source": [
    "fig = plt.figure(figsize=(8,5))\n",
    "ax = plt.subplot(111)\n",
    "for i in np.ndindex(L_num):\n",
    "    ax.errorbar(H, e_mean[i], yerr=[e_std[i]/2, e_std[i]/2], fmt=\"o--\", label=f\"L = {L[i]}\")\n",
    "box = ax.get_position()\n",
    "ax.set_position([box.x0, box.y0, box.width * 0.8, box.height])\n",
    "ax.legend(loc='center left', bbox_to_anchor=(1, 0.5))\n",
    "plt.xlabel(r\"$H_z$\")\n",
    "plt.ylabel(\"Mean energy\")\n",
    "plt.grid()\n",
    "plt.show()\n",
    "fig.savefig(\"./plots/\"+setname+\"_energy.svg\")"
   ]
  },
  {
   "cell_type": "markdown",
   "metadata": {},
   "source": [
    "### Mean magnetization magnitude"
   ]
  },
  {
   "cell_type": "code",
   "execution_count": null,
   "metadata": {},
   "outputs": [],
   "source": [
    "fig = plt.figure(figsize=(8,5))\n",
    "ax = plt.subplot(111)\n",
    "for i in np.ndindex(L_num):\n",
    "    ax.errorbar(H, m_magnitude_mean[i], yerr=m_magnitude_var[i]/2,  fmt=\"o--\", label=f\"L = {L[i]}\")\n",
    "box = ax.get_position()\n",
    "ax.set_position([box.x0, box.y0, box.width * 0.8, box.height])\n",
    "ax.legend(loc='center left', bbox_to_anchor=(1, 0.5))\n",
    "plt.xlabel(r\"$H_z$\")\n",
    "plt.ylabel(\"Mean magnetization magnitude\")\n",
    "plt.grid()\n",
    "plt.show()\n",
    "fig.savefig(\"./plots/\"+setname+\"_energy.svg\")"
   ]
  },
  {
   "cell_type": "code",
   "execution_count": null,
   "metadata": {},
   "outputs": [],
   "source": [
    "def cov(M,i,j):\n",
    "    M_mean = np.mean(M, axis=2)\n",
    "    ret = np.zeros(shape=(L_num, 1))\n",
    "    for l,t in np.ndindex(L_num, 1):\n",
    "        ret[l,t] = np.mean((M[l,t,:,i]-M_mean[l,t,i])*(M[l,t,:,j]-M_mean[l,t,j]))\n",
    "    return ret"
   ]
  },
  {
   "cell_type": "code",
   "execution_count": null,
   "metadata": {},
   "outputs": [],
   "source": [
    "T=1.445\n",
    "\n",
    "chi_xx = np.zeros(shape=(L_num, 1))\n",
    "chi_yy = np.zeros(shape=(L_num, 1))\n",
    "chi_zz = np.zeros(shape=(L_num, 1))\n",
    "chi_xy = np.zeros(shape=(L_num, 1))\n",
    "chi_yz = np.zeros(shape=(L_num, 1))\n",
    "chi_zx = np.zeros(shape=(L_num, 1))\n",
    "\n",
    "for i in np.ndindex(L_num):\n",
    "    chi_xx[i] = cov(m,0,0)[i]/T*L[i]**3\n",
    "    chi_yy[i] = cov(m,1,1)[i]/T*L[i]**3\n",
    "    chi_zz[i] = cov(m,2,2)[i]/T*L[i]**3\n",
    "    chi_xy[i] = cov(m,0,1)[i]/T*L[i]**3\n",
    "    chi_yz[i] = cov(m,1,2)[i]/T*L[i]**3\n",
    "    chi_zx[i] = cov(m,2,0)[i]/T*L[i]**3"
   ]
  },
  {
   "cell_type": "code",
   "execution_count": null,
   "metadata": {},
   "outputs": [],
   "source": [
    "fig = plt.figure(figsize=(8,5))\n",
    "ax = plt.subplot(111)\n",
    "ax.plot(L, chi_zz, \"o--\")\n",
    "plt.xlabel(r\"$L$\")\n",
    "plt.ylabel(r\"$\\chi_{zz}$\")\n",
    "plt.title(\"System susceptibility\")\n",
    "plt.grid()\n",
    "plt.show()\n",
    "fig.savefig(\"./plots/\"+setname+\"_susceptibility.svg\")"
   ]
  },
  {
   "cell_type": "markdown",
   "metadata": {},
   "source": [
    "### Critical indices"
   ]
  },
  {
   "cell_type": "code",
   "execution_count": null,
   "metadata": {},
   "outputs": [],
   "source": [
    "slope, intercept, r_value, p_value, std_err = stats.linregress(np.log(L), np.log(chi_zz[:,0]))\n",
    "gamma_nu = slope\n",
    "gamma_nu_u = std_err"
   ]
  },
  {
   "cell_type": "code",
   "execution_count": null,
   "metadata": {},
   "outputs": [],
   "source": [
    "fig = plt.figure(figsize=(8,5))\n",
    "ax = plt.subplot(111)\n",
    "ax.set_xscale('log')\n",
    "ax.set_yscale('log')\n",
    "plt.scatter(L, chi_zz[:,0])\n",
    "plt.plot(L, np.exp(intercept)*L**(slope), \":\")\n",
    "slope_str=\"{0:.3}\".format(slope)\n",
    "std_str=\"{0:.3}\".format(std_err)\n",
    "plt.text(10,65,fr\"$slope = {slope_str}\\pm{std_str}$\", fontsize=11)\n",
    "plt.grid(True, which=\"both\")\n",
    "plt.xlabel(r\"$L$\")\n",
    "plt.ylabel(r\"$\\chi_{zz}$\")\n",
    "plt.title(f\"T=1.445\")\n",
    "plt.show()\n",
    "fig.savefig(\"./plots/\"+setname+\"_gamma_nu.svg\")"
   ]
  },
  {
   "cell_type": "code",
   "execution_count": null,
   "metadata": {},
   "outputs": [],
   "source": [
    "slope, intercept, r_value, p_value, std_err = stats.linregress(np.log(L), np.log(m_magnitude_mean[:,0]))\n",
    "beta_nu = -slope\n",
    "beta_nu_u = std_err"
   ]
  },
  {
   "cell_type": "code",
   "execution_count": null,
   "metadata": {},
   "outputs": [],
   "source": [
    "fig = plt.figure(figsize=(8,5))\n",
    "ax = plt.subplot(111)\n",
    "ax.set_xscale('log')\n",
    "ax.set_yscale('log')\n",
    "plt.scatter(L, m_magnitude_mean[:,0])\n",
    "plt.plot(L, np.exp(intercept)*L**(slope), \":\")\n",
    "\n",
    "slope_str=\"{0:.3}\".format(slope)\n",
    "std_str=\"{0:.3}\".format(std_err)\n",
    "plt.text(15,3.1e-1,fr\"$slope = {slope_str}\\pm{std_str}$\", fontsize=11)\n",
    "\n",
    "plt.grid(True, which=\"both\")\n",
    "plt.xlabel(r\"$L$\")\n",
    "plt.ylabel(r\"$\\langle m\\rangle$\")\n",
    "plt.title(f\"T=1.445\")\n",
    "plt.show()\n",
    "fig.savefig(\"./plots/\"+setname+\"_beta_nu.svg\")"
   ]
  },
  {
   "cell_type": "markdown",
   "metadata": {},
   "source": [
    "### Spatial correlation"
   ]
  },
  {
   "cell_type": "code",
   "execution_count": null,
   "metadata": {},
   "outputs": [],
   "source": [
    "scm = spatial_correlation_matrix(final_state[0][0])\n",
    "r,c = radial_distribution(scm)"
   ]
  },
  {
   "cell_type": "code",
   "execution_count": null,
   "metadata": {},
   "outputs": [],
   "source": [
    "fig = plt.figure(figsize=(10,6))\n",
    "ax = plt.subplot(111)\n",
    "ax.plot(r,c)\n",
    "plt.xlabel(r\"$r$\")\n",
    "plt.ylabel(r\"$C(r)$\")\n",
    "plt.title(\"Spatial correlation\")\n",
    "plt.grid()\n",
    "plt.show()"
   ]
  },
  {
   "cell_type": "code",
   "execution_count": null,
   "metadata": {},
   "outputs": [],
   "source": []
  }
 ],
 "metadata": {
  "kernelspec": {
   "display_name": "Python 3",
   "language": "python",
   "name": "python3"
  },
  "language_info": {
   "codemirror_mode": {
    "name": "ipython",
    "version": 3
   },
   "file_extension": ".py",
   "mimetype": "text/x-python",
   "name": "python",
   "nbconvert_exporter": "python",
   "pygments_lexer": "ipython3",
   "version": "3.6.6"
  }
 },
 "nbformat": 4,
 "nbformat_minor": 2
}
