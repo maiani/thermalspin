{
 "cells": [
  {
   "cell_type": "markdown",
   "metadata": {},
   "source": [
    "#     RESULTS OF THE  SET OF SIMULATIONS"
   ]
  },
  {
   "cell_type": "markdown",
   "metadata": {},
   "source": [
    "## Loading results"
   ]
  },
  {
   "cell_type": "code",
   "execution_count": null,
   "metadata": {},
   "outputs": [],
   "source": [
    "%matplotlib notebook"
   ]
  },
  {
   "cell_type": "code",
   "execution_count": null,
   "metadata": {},
   "outputs": [],
   "source": [
    "import numpy as np\n",
    "from scipy import stats\n",
    "\n",
    "import matplotlib.pyplot as plt\n",
    "\n",
    "from thermalspin.data_analysis  import *"
   ]
  },
  {
   "cell_type": "code",
   "execution_count": null,
   "metadata": {},
   "outputs": [],
   "source": [
    "# Insert here the name of the simulation set\n",
    "setname = \"ferro_set\""
   ]
  },
  {
   "cell_type": "code",
   "execution_count": null,
   "metadata": {},
   "outputs": [],
   "source": [
    "final_state_lst, L_lst, t_lst, J_lst, h_lst, T_lst, e_lst, m_lst, snp = load_set_results(setname)"
   ]
  },
  {
   "cell_type": "code",
   "execution_count": null,
   "metadata": {},
   "outputs": [],
   "source": [
    "L, T, t_whole, J_whole, h_whole, e_whole, m_whole, final_state = \\\n",
    "arrange_set_results_LT(L_lst, t_lst, J_lst, h_lst, T_lst, e_lst, m_lst, final_state_lst)[:-1]\n",
    "L_num = t_whole.shape[0]\n",
    "T_num = t_whole.shape[1]\n",
    "t_num = t_whole.shape[2]"
   ]
  },
  {
   "cell_type": "markdown",
   "metadata": {},
   "source": [
    "## Global behaviour"
   ]
  },
  {
   "cell_type": "code",
   "execution_count": null,
   "metadata": {},
   "outputs": [],
   "source": [
    "fig = plt.figure(figsize=(10,6))\n",
    "ax = plt.subplot(111)\n",
    "for i,j in np.ndindex(L_num, T_num):\n",
    "    ax.plot(t_whole[i,j], e_whole[i,j], label=f\"L = {L[i]}, T = {T[j]}\")\n",
    "box = ax.get_position()\n",
    "ax.set_position([box.x0, box.y0, box.width * 0.8, box.height])\n",
    "ax.legend(loc='center left', bbox_to_anchor=(1, 0.5))\n",
    "plt.xlabel(\"Step\")\n",
    "plt.ylabel(\"Energy\")\n",
    "plt.grid()\n",
    "plt.show()"
   ]
  },
  {
   "cell_type": "code",
   "execution_count": null,
   "metadata": {},
   "outputs": [],
   "source": [
    "m_magnitude_whole = np.sqrt(np.sum(m_whole**2, axis = 3))"
   ]
  },
  {
   "cell_type": "code",
   "execution_count": null,
   "metadata": {},
   "outputs": [],
   "source": [
    "fig = plt.figure(figsize=(10,6))\n",
    "ax = plt.subplot(111)\n",
    "for i,j in np.ndindex(L_num, T_num):\n",
    "    ax.plot(t_whole[i,j], m_magnitude_whole[i,j], label=f\"L = {L[i]}, T = {T[j]}\")\n",
    "box = ax.get_position()\n",
    "ax.set_position([box.x0, box.y0, box.width * 0.8, box.height])\n",
    "ax.legend(loc='center left', bbox_to_anchor=(1, 0.5))\n",
    "plt.xlabel(\"Step\")\n",
    "plt.ylabel(\"Absolute magnetization\")\n",
    "plt.grid()\n",
    "plt.show()"
   ]
  },
  {
   "cell_type": "markdown",
   "metadata": {},
   "source": [
    "## Single ensemble analysis"
   ]
  },
  {
   "cell_type": "code",
   "execution_count": null,
   "metadata": {},
   "outputs": [],
   "source": [
    "# Insert here index of the ensemble to be analyzed \n",
    "L_idx = 0\n",
    "T_idx = 0"
   ]
  },
  {
   "cell_type": "code",
   "execution_count": null,
   "metadata": {},
   "outputs": [],
   "source": [
    "fig = plt.figure(figsize=(10,6))\n",
    "ax = plt.subplot(111)\n",
    "ax.plot(t_whole[L_idx, T_idx], e_whole[L_idx, T_idx], label=f\"L = {L[L_idx]}, T = {T[T_idx]}\")\n",
    "ax.legend()\n",
    "plt.ylabel(\"Energy\")\n",
    "plt.xlabel(\"Steps\")\n",
    "plt.title(\"Energy\")\n",
    "plt.grid()\n",
    "plt.show()"
   ]
  },
  {
   "cell_type": "code",
   "execution_count": null,
   "metadata": {},
   "outputs": [],
   "source": [
    "fig = plt.figure(figsize=(10,6))\n",
    "ax = plt.subplot(111)\n",
    "ax.plot(t_whole[L_idx, T_idx], m_whole[L_idx, T_idx, :, 0], label = r\"$M_x$\")\n",
    "ax.plot(t_whole[L_idx, T_idx], m_whole[L_idx, T_idx, :, 1], label = r\"$M_y$\")\n",
    "ax.plot(t_whole[L_idx, T_idx], m_whole[L_idx, T_idx, :, 2], label = r\"$M_z$\")\n",
    "plt.legend()\n",
    "plt.ylabel(\"Magnetization\")\n",
    "plt.xlabel(\"Steps\")\n",
    "plt.title(\"Magnetization\")\n",
    "plt.grid()\n",
    "plt.show()"
   ]
  },
  {
   "cell_type": "code",
   "execution_count": null,
   "metadata": {},
   "outputs": [],
   "source": [
    "fig = plt.figure(figsize=(10,6))\n",
    "ax = plt.subplot(111)\n",
    "ax.plot(t_whole[L_idx, T_idx], np.abs(m_whole[L_idx, T_idx, :, 0]), label = r\"$|M_x|$\")\n",
    "ax.plot(t_whole[L_idx, T_idx], np.abs(m_whole[L_idx, T_idx, :, 1]), label = r\"$|M_y|$\")\n",
    "ax.plot(t_whole[L_idx, T_idx], np.abs(m_whole[L_idx, T_idx, :, 2]), label = r\"$|M_z|$\")\n",
    "plt.legend()\n",
    "plt.ylabel(\"Absolute magnetization\")\n",
    "plt.xlabel(\"Steps\")\n",
    "plt.title(\"Absolute magnetization\")\n",
    "plt.grid()\n",
    "plt.show()"
   ]
  },
  {
   "cell_type": "code",
   "execution_count": null,
   "metadata": {},
   "outputs": [],
   "source": [
    "plot_state(final_state[L_idx][T_idx])"
   ]
  },
  {
   "cell_type": "code",
   "execution_count": null,
   "metadata": {},
   "outputs": [],
   "source": [
    "plot_spin_directions(final_state[0][10])"
   ]
  },
  {
   "cell_type": "markdown",
   "metadata": {},
   "source": [
    "## System results"
   ]
  },
  {
   "cell_type": "code",
   "execution_count": null,
   "metadata": {},
   "outputs": [],
   "source": [
    "# SELECT WARMUP PERIOD TO LAST UNTIL STEP NUMBER warmup_final_step\n",
    "warmup_final_step = 1e7\n",
    "warmup_final_idx = np.argmax(np.equal(t_whole[0,0], warmup_final_step))\n",
    "t = t_whole[:, :, warmup_final_idx:]\n",
    "e = e_whole[:, :, warmup_final_idx:]\n",
    "m = m_whole[:, :, warmup_final_idx:]"
   ]
  },
  {
   "cell_type": "code",
   "execution_count": null,
   "metadata": {},
   "outputs": [],
   "source": [
    "L_mat = np.tile(L**3,(40,1)).T"
   ]
  },
  {
   "cell_type": "code",
   "execution_count": null,
   "metadata": {},
   "outputs": [],
   "source": [
    "E_mean = np.mean(e, axis=2)\n",
    "E_std = np.sqrt(np.var(e, axis=2))\n",
    "\n",
    "e_mean = np.zeros(shape=E_mean.shape)\n",
    "e_std = np.zeros(shape=E_std.shape)\n",
    "for i in range(L_num):\n",
    "    e_mean[i] = E_mean[i]/L[i]**3\n",
    "    e_std[i] = E_std[i]/L[i]**3"
   ]
  },
  {
   "cell_type": "code",
   "execution_count": null,
   "metadata": {},
   "outputs": [],
   "source": [
    "fig = plt.figure(figsize=(8,5))\n",
    "plt.hist(e[-1,-1], bins=40)\n",
    "plt.xlabel(\"Energy\")\n",
    "plt.ylabel(\"Frequency\")\n",
    "plt.grid()\n",
    "plt.show()\n",
    "fig.savefig(\"./plots/\"+setname+\"_distribution_test.svg\")"
   ]
  },
  {
   "cell_type": "markdown",
   "metadata": {},
   "source": [
    "### Mean energy"
   ]
  },
  {
   "cell_type": "code",
   "execution_count": null,
   "metadata": {},
   "outputs": [],
   "source": [
    "fig = plt.figure(figsize=(8,5))\n",
    "ax = plt.subplot(111)\n",
    "for i in np.ndindex(L_num):\n",
    "    ax.errorbar(T, E_mean[i], yerr=E_std[i]/2, fmt=\"--.\", label=f\"L = {L[i]}\")\n",
    "box = ax.get_position()\n",
    "ax.legend()\n",
    "plt.title(\"Expected values for system energy\")\n",
    "plt.xlabel(r\"$T$\")\n",
    "plt.ylabel(r\"$\\langle E \\rangle$\")\n",
    "plt.grid()\n",
    "plt.show()\n",
    "fig.savefig(\"./plots/\"+setname+\"_system_energy.svg\")"
   ]
  },
  {
   "cell_type": "code",
   "execution_count": null,
   "metadata": {},
   "outputs": [],
   "source": [
    "fig = plt.figure(figsize=(8,5))\n",
    "ax = plt.subplot(111)\n",
    "for i in np.ndindex(L_num):\n",
    "    ax.errorbar(T, e_mean[i], yerr=e_std[i]/2, fmt=\"--.\", label=f\"L = {L[i]}\")\n",
    "box = ax.get_position()\n",
    "ax.legend()\n",
    "plt.title(\"Expected values for energy per spin\")\n",
    "plt.xlabel(r\"$T$\")\n",
    "plt.ylabel(r\"$\\langle e \\rangle$\")\n",
    "plt.grid()\n",
    "plt.show()\n",
    "fig.savefig(\"./plots/\"+setname+\"_energy_per_spin.svg\")"
   ]
  },
  {
   "cell_type": "markdown",
   "metadata": {},
   "source": [
    "### Mean magnetization magnitude"
   ]
  },
  {
   "cell_type": "code",
   "execution_count": null,
   "metadata": {},
   "outputs": [],
   "source": [
    "M_mean = np.mean(m, axis=2)\n",
    "M_std = np.sqrt(np.var(m, axis=2))\n",
    "M_magnitude = np.sqrt(np.sum(m**2, axis = 3))\n",
    "M_magnitude_mean = np.mean(M_magnitude, axis=2)\n",
    "M_magnitude_std = np.sqrt(np.var(M_magnitude, axis=2))"
   ]
  },
  {
   "cell_type": "code",
   "execution_count": null,
   "metadata": {},
   "outputs": [],
   "source": [
    "Tc_idx   = np.argmax(T>1.444)\n",
    "T_nc_max = np.argmax(T>1.5)\n",
    "T_nc_min = np.argmax(T>1.3)\n",
    "\n",
    "T_dis = T[Tc_idx:]\n",
    "T_ord = T[:Tc_idx]\n",
    "T_dis_nc = T[Tc_idx:T_nc_max]\n",
    "T_ord_nc = T[T_nc_min:Tc_idx]"
   ]
  },
  {
   "cell_type": "code",
   "execution_count": null,
   "metadata": {},
   "outputs": [],
   "source": [
    "fig = plt.figure(figsize=(8,5))\n",
    "ax = plt.subplot(111)\n",
    "for i in np.ndindex(L_num):\n",
    "    ax.errorbar(T, M_magnitude_mean[i], yerr=M_magnitude_std[i]/2,fmt=\"--.\", label=f\"L = {L[i]}\")\n",
    "box = ax.get_position()\n",
    "ax.legend()\n",
    "plt.xlabel(r\"$T$\")\n",
    "plt.ylabel(r\"$\\langle | \\vec{M} | \\rangle$\")\n",
    "plt.grid()\n",
    "plt.title(\"Expected value for system magnetization magnitude\")\n",
    "plt.show()\n",
    "fig.savefig(\"./plots/\"+setname+\"_magnetization_magnitude.svg\")"
   ]
  },
  {
   "cell_type": "markdown",
   "metadata": {},
   "source": [
    "### Heat capacity"
   ]
  },
  {
   "cell_type": "code",
   "execution_count": null,
   "metadata": {},
   "outputs": [],
   "source": [
    "E_var = np.var(e, axis=2)"
   ]
  },
  {
   "cell_type": "code",
   "execution_count": null,
   "metadata": {},
   "outputs": [],
   "source": [
    "cv = np.zeros(shape=(L_num, T_num))\n",
    "for i in np.ndindex(L_num):\n",
    "    cv[i] = E_var[i]/T**2/L[i]**3"
   ]
  },
  {
   "cell_type": "code",
   "execution_count": null,
   "metadata": {},
   "outputs": [],
   "source": [
    "fig = plt.figure(figsize=(8,5))\n",
    "ax = plt.subplot(111)\n",
    "for i in np.ndindex(L_num):\n",
    "    ax.plot(T, cv[i], \":.\", label=f\"L = {L[i]}\")\n",
    "box = ax.get_position()\n",
    "ax.legend()\n",
    "plt.xlabel(\"Temperature\")\n",
    "plt.ylabel(r\"$c_v$\")\n",
    "plt.title(\"Heat capacity per spin\")\n",
    "plt.grid()\n",
    "plt.show()\n",
    "fig.savefig(\"./plots/\"+setname+\"_heat_capacity.svg\")"
   ]
  },
  {
   "cell_type": "markdown",
   "metadata": {},
   "source": [
    "### Suscpetibility"
   ]
  },
  {
   "cell_type": "code",
   "execution_count": null,
   "metadata": {},
   "outputs": [],
   "source": [
    "def cov(M,i,j):\n",
    "    M_mean = np.mean(M, axis=2)\n",
    "    ret = np.zeros(shape=(L_num, T_num))\n",
    "    for l,t in np.ndindex(L_num, T_num):\n",
    "        ret[l,t] = np.mean((M[l,t,:,i]-M_mean[l,t,i])*(M[l,t,:,j]-M_mean[l,t,j]))\n",
    "    return ret"
   ]
  },
  {
   "cell_type": "code",
   "execution_count": null,
   "metadata": {},
   "outputs": [],
   "source": [
    "chi_xx = np.zeros(shape=(L_num, T_num))\n",
    "chi_yy = np.zeros(shape=(L_num, T_num))\n",
    "chi_zz = np.zeros(shape=(L_num, T_num))\n",
    "chi_xy = np.zeros(shape=(L_num, T_num))\n",
    "chi_yz = np.zeros(shape=(L_num, T_num))\n",
    "chi_zx = np.zeros(shape=(L_num, T_num))\n",
    "\n",
    "for i in np.ndindex(L_num):\n",
    "    chi_xx[i] = cov(m,0,0)[i]/T\n",
    "    chi_yy[i] = cov(m,1,1)[i]/T\n",
    "    chi_zz[i] = cov(m,2,2)[i]/T\n",
    "    chi_xy[i] = cov(m,0,1)[i]/T\n",
    "    chi_yz[i] = cov(m,1,2)[i]/T\n",
    "    chi_zx[i] = cov(m,2,0)[i]/T"
   ]
  },
  {
   "cell_type": "code",
   "execution_count": null,
   "metadata": {},
   "outputs": [],
   "source": [
    "m_dis = m[:,Tc_idx:]\n",
    "m_ord = m[:,:Tc_idx]\n",
    "\n",
    "chi_xx_dis = chi_xx[:, Tc_idx:]\n",
    "chi_yy_dis = chi_yy[:, Tc_idx:]\n",
    "chi_zz_dis = chi_zz[:, Tc_idx:]\n",
    "chi_xy_dis = chi_xy[:, Tc_idx:]\n",
    "chi_yz_dis = chi_yz[:, Tc_idx:]\n",
    "chi_zx_dis = chi_zx[:, Tc_idx:]"
   ]
  },
  {
   "cell_type": "code",
   "execution_count": null,
   "metadata": {},
   "outputs": [],
   "source": [
    "fig = plt.figure(figsize=(8,5))\n",
    "ax = plt.subplot(111)\n",
    "for i in np.ndindex(L_num):\n",
    "    ax.plot(T, chi_zz[i], \"--.\", label=f\"L = {L[i]}\")\n",
    "box = ax.get_position()\n",
    "ax.legend()\n",
    "plt.xlabel(\"Temperature\")\n",
    "plt.ylabel(r\"$\\chi_{zz}$\")\n",
    "plt.title(\"System susceptibility\")\n",
    "plt.grid()\n",
    "plt.show()\n",
    "fig.savefig(\"./plots/\"+setname+\"_system_susceptibility.svg\")"
   ]
  },
  {
   "cell_type": "code",
   "execution_count": null,
   "metadata": {},
   "outputs": [],
   "source": [
    "L_idx = 0\n",
    "\n",
    "fig = plt.figure(figsize=(10,6))\n",
    "ax = plt.subplot(111)\n",
    "ax.plot(T_dis, chi_xx_dis[L_idx], \".--\", label=r\"$\\chi_{xx}$\")\n",
    "ax.plot(T_dis, chi_yy_dis[L_idx], \".--\", label=r\"$\\chi_{yy}$\")\n",
    "ax.plot(T_dis, chi_zz_dis[L_idx], \".--\", label=r\"$\\chi_{zz}$\")\n",
    "ax.plot(T_dis, chi_xy_dis[L_idx], \".--\", label=r\"$\\chi_{xy}$\")\n",
    "ax.plot(T_dis, chi_yz_dis[L_idx], \".--\", label=r\"$\\chi_{yz}$\")\n",
    "ax.plot(T_dis, chi_zx_dis[L_idx], \".--\", label=r\"$\\chi_{zx}$\")\n",
    "box = ax.get_position()\n",
    "ax.set_position([box.x0, box.y0, box.width * 0.8, box.height])\n",
    "ax.legend(loc='center left', bbox_to_anchor=(1, 0.5))\n",
    "plt.xlabel(\"Temperature\")\n",
    "plt.ylabel(r\"$\\chi_{zz}$\")\n",
    "plt.title(f\"Susceptibility for L = {L[L_idx]}\")\n",
    "plt.grid()\n",
    "plt.show()\n",
    "fig.savefig(\"./plots/\"+setname+f\"_L{L[L_idx]}_susceptibility.svg\")"
   ]
  },
  {
   "cell_type": "markdown",
   "metadata": {},
   "source": [
    "### Binder ratio"
   ]
  },
  {
   "cell_type": "code",
   "execution_count": null,
   "metadata": {},
   "outputs": [],
   "source": [
    "binder = 1 - (1/3)*np.mean(M_magnitude**4, axis=2)/(np.mean(M_magnitude**2, axis=2)**2)"
   ]
  },
  {
   "cell_type": "code",
   "execution_count": null,
   "metadata": {},
   "outputs": [],
   "source": [
    "fig = plt.figure(figsize=(8,5))\n",
    "ax = plt.subplot(111)\n",
    "for i in np.ndindex(L_num):\n",
    "    ax.plot(T, binder[i], '--.', label=f\"L = {L[i]}\")\n",
    "box = ax.get_position()\n",
    "ax.legend()\n",
    "plt.ylabel(r\"Binder ratio\")\n",
    "plt.xlabel(r\"T\")\n",
    "plt.title(\"Binder ratio\")\n",
    "plt.grid()\n",
    "plt.show()\n",
    "fig.savefig(\"plots/\"+setname+\"_binder.svg\")"
   ]
  },
  {
   "cell_type": "code",
   "execution_count": null,
   "metadata": {},
   "outputs": [],
   "source": [
    "fig = plt.figure(figsize=(8,5))\n",
    "ax = plt.subplot(111)\n",
    "for i in np.ndindex(L_num):\n",
    "    ax.plot(T[11:-11], binder[i][11:-11], '--.', label=f\"L = {L[i]}\")\n",
    "box = ax.get_position()\n",
    "ax.legend()\n",
    "plt.ylabel(r\"Binder ratio\")\n",
    "plt.xlabel(r\"T\")\n",
    "plt.title(\"Binder ratio\")\n",
    "plt.grid()\n",
    "plt.show()\n",
    "fig.savefig(\"plots/\"+setname+\"_binder_zoomed.svg\")"
   ]
  }
 ],
 "metadata": {
  "kernelspec": {
   "display_name": "Python 3",
   "language": "python",
   "name": "python3"
  },
  "language_info": {
   "codemirror_mode": {
    "name": "ipython",
    "version": 3
   },
   "file_extension": ".py",
   "mimetype": "text/x-python",
   "name": "python",
   "nbconvert_exporter": "python",
   "pygments_lexer": "ipython3",
   "version": "3.6.6"
  }
 },
 "nbformat": 4,
 "nbformat_minor": 2
}
