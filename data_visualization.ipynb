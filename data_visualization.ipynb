{
 "cells": [
  {
   "cell_type": "markdown",
   "metadata": {},
   "source": [
    "#     RESULTS OF THE  SET OF SIMULATIONS"
   ]
  },
  {
   "cell_type": "markdown",
   "metadata": {},
   "source": [
    "## Loading results"
   ]
  },
  {
   "cell_type": "code",
   "execution_count": null,
   "metadata": {},
   "outputs": [],
   "source": [
    "%matplotlib notebook"
   ]
  },
  {
   "cell_type": "code",
   "execution_count": null,
   "metadata": {},
   "outputs": [],
   "source": [
    "import numpy as np\n",
    "import matplotlib.pyplot as plt\n",
    "from data_analysis  import *"
   ]
  },
  {
   "cell_type": "code",
   "execution_count": null,
   "metadata": {},
   "outputs": [],
   "source": [
    "# Insert here the name of the simulation set\n",
    "setname = \"sim_816\""
   ]
  },
  {
   "cell_type": "code",
   "execution_count": null,
   "metadata": {},
   "outputs": [],
   "source": [
    "final_state_lst, L_lst, t_lst, J_lst, h_lst, T_lst, e_lst, m_lst = load_set_results(setname)"
   ]
  },
  {
   "cell_type": "code",
   "execution_count": null,
   "metadata": {},
   "outputs": [],
   "source": [
    "L, T, t_whole, J_whole, h_whole, e_whole, m_whole, final_state = arrange_set_results(L_lst, t_lst, J_lst, h_lst, T_lst, e_lst, m_lst, final_state_lst)\n",
    "L_num = t_whole.shape[0]\n",
    "T_num = t_whole.shape[1]\n",
    "t_num = t_whole.shape[2]"
   ]
  },
  {
   "cell_type": "markdown",
   "metadata": {},
   "source": [
    "## Global behaviour"
   ]
  },
  {
   "cell_type": "code",
   "execution_count": null,
   "metadata": {},
   "outputs": [],
   "source": [
    "fig = plt.figure(figsize=(10,6))\n",
    "ax = plt.subplot(111)\n",
    "for i,j in np.ndindex(L_num, T_num):\n",
    "    ax.plot(t_whole[i,j], e_whole[i,j], label=f\"L = {L[i]}, T = {T[j]}\")\n",
    "box = ax.get_position()\n",
    "ax.set_position([box.x0, box.y0, box.width * 0.8, box.height])\n",
    "ax.legend(loc='center left', bbox_to_anchor=(1, 0.5))\n",
    "plt.xlabel(\"Step\")\n",
    "plt.ylabel(\"Energy\")\n",
    "plt.show()"
   ]
  },
  {
   "cell_type": "code",
   "execution_count": null,
   "metadata": {},
   "outputs": [],
   "source": [
    "m_final = m_whole[:, :, -1]\n",
    "m_magnitude_whole = np.sqrt(np.sum(m_whole**2, axis = 3))"
   ]
  },
  {
   "cell_type": "code",
   "execution_count": null,
   "metadata": {},
   "outputs": [],
   "source": [
    "fig = plt.figure(figsize=(10,6))\n",
    "ax = plt.subplot(111)\n",
    "for i,j in np.ndindex(L_num, T_num):\n",
    "    ax.plot(t_whole[i,j], m_magnitude_whole[i,j], label=f\"L = {L[i]}, T = {T[j]}\")\n",
    "box = ax.get_position()\n",
    "ax.set_position([box.x0, box.y0, box.width * 0.8, box.height])\n",
    "ax.legend(loc='center left', bbox_to_anchor=(1, 0.5))\n",
    "plt.xlabel(\"Step\")\n",
    "plt.ylabel(\"Absolute magnetization\")\n",
    "plt.show()"
   ]
  },
  {
   "cell_type": "markdown",
   "metadata": {},
   "source": [
    "## Single ensemble analysis"
   ]
  },
  {
   "cell_type": "code",
   "execution_count": null,
   "metadata": {},
   "outputs": [],
   "source": [
    "# Insert here index of the ensemble to be analyzed \n",
    "L_idx = 1\n",
    "T_idx = 1"
   ]
  },
  {
   "cell_type": "code",
   "execution_count": null,
   "metadata": {
    "scrolled": true
   },
   "outputs": [],
   "source": [
    "fig = plt.figure(figsize=(10,6))\n",
    "ax = plt.subplot(111)\n",
    "ax.plot(t_whole[L_idx, T_idx], e_whole[L_idx, T_idx], label=f\"L = {L[L_idx]}, T = {T[T_idx]}\")\n",
    "ax.legend()\n",
    "plt.ylabel(\"Energy\")\n",
    "plt.xlabel(\"Steps\")\n",
    "plt.title(\"Energy\")\n",
    "plt.show()"
   ]
  },
  {
   "cell_type": "code",
   "execution_count": null,
   "metadata": {},
   "outputs": [],
   "source": [
    "fig = plt.figure(figsize=(10,6))\n",
    "ax = plt.subplot(111)\n",
    "ax.plot(t_whole[L_idx, T_idx], m_whole[L_idx, T_idx, :, 0], label = r\"$M_x$\")\n",
    "ax.plot(t_whole[L_idx, T_idx], m_whole[L_idx, T_idx, :, 1], label = r\"$M_y$\")\n",
    "ax.plot(t_whole[L_idx, T_idx], m_whole[L_idx, T_idx, :, 2], label = r\"$M_z$\")\n",
    "plt.legend()\n",
    "plt.ylabel(\"Magnetization\")\n",
    "plt.xlabel(\"Steps\")\n",
    "plt.title(\"Magnetization\")\n",
    "plt.show()"
   ]
  },
  {
   "cell_type": "code",
   "execution_count": null,
   "metadata": {},
   "outputs": [],
   "source": [
    "fig = plt.figure(figsize=(10,6))\n",
    "ax = plt.subplot(111)\n",
    "ax.plot(t_whole[L_idx, T_idx], np.abs(m_whole[L_idx, T_idx, :, 0]), label = r\"$|M_x|$\")\n",
    "ax.plot(t_whole[L_idx, T_idx], np.abs(m_whole[L_idx, T_idx, :, 1]), label = r\"$|M_y|$\")\n",
    "ax.plot(t_whole[L_idx, T_idx], np.abs(m_whole[L_idx, T_idx, :, 2]), label = r\"$|M_z|$\")\n",
    "plt.legend()\n",
    "plt.ylabel(\"Absolute magnetization\")\n",
    "plt.xlabel(\"Steps\")\n",
    "plt.title(\"Absolute magnetization\")\n",
    "plt.show()"
   ]
  },
  {
   "cell_type": "code",
   "execution_count": null,
   "metadata": {},
   "outputs": [],
   "source": [
    "plot_state(final_state[L_idx][T_idx])"
   ]
  },
  {
   "cell_type": "markdown",
   "metadata": {},
   "source": [
    "## System results"
   ]
  },
  {
   "cell_type": "code",
   "execution_count": null,
   "metadata": {},
   "outputs": [],
   "source": [
    "# SELECT WARMUP PERIOD TO LAST UNTIL STEP NUMBER warmup_final_step\n",
    "warmup_final_step = 1e7\n",
    "warmup_final_idx = np.argmax(np.equal(t_whole[0,0], warmup_final_step))\n",
    "t = t_whole[:, :, warmup_final_idx:]\n",
    "e = e_whole[:, :, warmup_final_idx:]\n",
    "m = m_whole[:, :, warmup_final_idx:]"
   ]
  },
  {
   "cell_type": "code",
   "execution_count": null,
   "metadata": {},
   "outputs": [],
   "source": [
    "e_mean = np.mean(e, axis=2)\n",
    "e_rmsd = np.sqrt(np.var(e, axis=2))\n",
    "m_mean = np.mean(m, axis=2)\n",
    "m_rmsd = np.sqrt(np.var(m, axis=2))\n",
    "m_magnitude = np.sqrt(np.sum(m**2, axis = 3))\n",
    "m_magnitude_mean = np.sqrt(np.sum(m_magnitude**2, axis = 2))"
   ]
  },
  {
   "cell_type": "code",
   "execution_count": null,
   "metadata": {},
   "outputs": [],
   "source": [
    "fig = plt.figure(figsize=(10,6))\n",
    "ax = plt.subplot(111)\n",
    "for i in np.ndindex(L_num):\n",
    "    ax.plot(T, e_mean[i], \"o--\", label=f\"L = {L[i]}\")\n",
    "box = ax.get_position()\n",
    "ax.set_position([box.x0, box.y0, box.width * 0.8, box.height])\n",
    "ax.legend(loc='center left', bbox_to_anchor=(1, 0.5))\n",
    "plt.xlabel(\"Temperature\")\n",
    "plt.ylabel(\"Mean energy\")\n",
    "plt.show()"
   ]
  },
  {
   "cell_type": "code",
   "execution_count": null,
   "metadata": {},
   "outputs": [],
   "source": [
    "fig = plt.figure(figsize=(10,6))\n",
    "ax = plt.subplot(111)\n",
    "for i in np.ndindex(L_num):\n",
    "    ax.plot(T, m_magnitude_mean[i], \"o--\", label=f\"L = {L[i]}\")\n",
    "box = ax.get_position()\n",
    "ax.set_position([box.x0, box.y0, box.width * 0.8, box.height])\n",
    "ax.legend(loc='center left', bbox_to_anchor=(1, 0.5))\n",
    "plt.xlabel(\"Temperature\")\n",
    "plt.ylabel(\"Mean magnetization magnitude\")\n",
    "plt.show()"
   ]
  },
  {
   "cell_type": "code",
   "execution_count": null,
   "metadata": {},
   "outputs": [],
   "source": [
    "cv = np.zeros(shape=(L_num, T_num))\n",
    "for i in np.ndindex(L_num):\n",
    "    cv[i] = e_rmsd[i]**2/T**2"
   ]
  },
  {
   "cell_type": "code",
   "execution_count": null,
   "metadata": {},
   "outputs": [],
   "source": [
    "fig = plt.figure(figsize=(10,6))\n",
    "ax = plt.subplot(111)\n",
    "for i in np.ndindex(L_num):\n",
    "    ax.plot(T, cv[i], \"o--\", label=f\"L = {L[i]}\")\n",
    "box = ax.get_position()\n",
    "ax.set_position([box.x0, box.y0, box.width * 0.8, box.height])\n",
    "ax.legend(loc='center left', bbox_to_anchor=(1, 0.5))\n",
    "plt.xlabel(\"Temperature\")\n",
    "plt.ylabel(\"Heat capacity\")\n",
    "plt.show()"
   ]
  },
  {
   "cell_type": "code",
   "execution_count": null,
   "metadata": {},
   "outputs": [],
   "source": [
    "chi_xx = np.zeros(shape=(L_num, T_num))\n",
    "chi_yy = np.zeros(shape=(L_num, T_num))\n",
    "chi_zz = np.zeros(shape=(L_num, T_num))\n",
    "\n",
    "for i in np.ndindex(L_num):\n",
    "    chi_xx[i] = m_rmsd[i,:,0]**2/T\n",
    "    chi_yy[i] = m_rmsd[i,:,1]**2/T\n",
    "    chi_zz[i] = m_rmsd[i,:,2]**2/T"
   ]
  },
  {
   "cell_type": "code",
   "execution_count": null,
   "metadata": {},
   "outputs": [],
   "source": [
    "fig = plt.figure(figsize=(10,6))\n",
    "ax = plt.subplot(111)\n",
    "for i in np.ndindex(L_num):\n",
    "    ax.plot(T, chi_zz[i], \"o--\", label=f\"L = {L[i]}\")\n",
    "box = ax.get_position()\n",
    "ax.set_position([box.x0, box.y0, box.width * 0.8, box.height])\n",
    "ax.legend(loc='center left', bbox_to_anchor=(1, 0.5))\n",
    "plt.xlabel(\"Temperature\")\n",
    "plt.ylabel(r\"$\\chi_{zz}$\")\n",
    "plt.show()"
   ]
  },
  {
   "cell_type": "code",
   "execution_count": null,
   "metadata": {},
   "outputs": [],
   "source": [
    "b = 1-np.mean(m_magnitude**4, axis=2)/(3*np.mean(m_magnitude**2, axis=2)**2)"
   ]
  },
  {
   "cell_type": "code",
   "execution_count": null,
   "metadata": {},
   "outputs": [],
   "source": [
    "fig = plt.figure(figsize=(10,6))\n",
    "ax = plt.subplot(111)\n",
    "for i in np.ndindex(L_num):\n",
    "    ax.plot(T, b[i], 'o--', label=f\"L = {L[i]}\")\n",
    "box = ax.get_position()\n",
    "ax.set_position([box.x0, box.y0, box.width * 0.8, box.height])\n",
    "ax.legend(loc='center left', bbox_to_anchor=(1, 0.5))\n",
    "plt.ylabel(r\"Binder ratio\")\n",
    "plt.xlabel(r\"T\")\n",
    "plt.title(\"Binder ratio\")\n",
    "plt.show()"
   ]
  }
 ],
 "metadata": {
  "kernelspec": {
   "display_name": "Python 3",
   "language": "python",
   "name": "python3"
  },
  "language_info": {
   "codemirror_mode": {
    "name": "ipython",
    "version": 3
   },
   "file_extension": ".py",
   "mimetype": "text/x-python",
   "name": "python",
   "nbconvert_exporter": "python",
   "pygments_lexer": "ipython3",
   "version": "3.6.6"
  }
 },
 "nbformat": 4,
 "nbformat_minor": 2
}
