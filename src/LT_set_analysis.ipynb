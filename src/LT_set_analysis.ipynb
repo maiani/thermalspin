{
 "cells": [
  {
   "cell_type": "markdown",
   "metadata": {},
   "source": [
    "#     RESULTS OF THE  SET OF SIMULATIONS"
   ]
  },
  {
   "cell_type": "markdown",
   "metadata": {},
   "source": [
    "## Loading results"
   ]
  },
  {
   "cell_type": "code",
   "execution_count": null,
   "metadata": {},
   "outputs": [],
   "source": [
    "%matplotlib notebook"
   ]
  },
  {
   "cell_type": "code",
   "execution_count": null,
   "metadata": {},
   "outputs": [],
   "source": [
    "import numpy as np\n",
    "from scipy import stats\n",
    "\n",
    "import matplotlib.pyplot as plt\n",
    "import seaborn as sns\n",
    "\n",
    "from thermalspin.data_analysis  import *"
   ]
  },
  {
   "cell_type": "code",
   "execution_count": null,
   "metadata": {},
   "outputs": [],
   "source": [
    "# Insert here the name of the simulation set\n",
    "setname = \"ferro_set\"\n",
    "out_dir = f\"./plots/{setname}/\"\n",
    "os.makedirs(out_dir, exist_ok=True)"
   ]
  },
  {
   "cell_type": "code",
   "execution_count": null,
   "metadata": {
    "scrolled": true
   },
   "outputs": [],
   "source": [
    "final_state_lst, L_lst, t_lst, J_lst, D_lst, h_lst, T_lst, E_lst, m_lst, snp_lst = load_set_results(setname)"
   ]
  },
  {
   "cell_type": "code",
   "execution_count": null,
   "metadata": {},
   "outputs": [],
   "source": [
    "L, T, t_whole, J_whole, D_whole, h_whole, E_whole, m_whole, final_state, snp = \\\n",
    "arrange_set_results_LT(L_lst, t_lst, J_lst, D_lst, h_lst, T_lst, E_lst, m_lst, final_state_lst)\n",
    "L_num = t_whole.shape[0]\n",
    "T_num = t_whole.shape[1]\n",
    "t_num = t_whole.shape[2]"
   ]
  },
  {
   "cell_type": "markdown",
   "metadata": {},
   "source": [
    "## Global behaviour"
   ]
  },
  {
   "cell_type": "code",
   "execution_count": null,
   "metadata": {},
   "outputs": [],
   "source": [
    "fig = plt.figure(figsize=(10,6))\n",
    "ax = plt.subplot(111)\n",
    "for i,j in np.ndindex(L_num, T_num):\n",
    "    ax.plot(t_whole[i,j], E_whole[i,j], label=f\"L = {L[i]}, T = {T[j]}\")\n",
    "box = ax.get_position()\n",
    "ax.set_position([box.x0, box.y0, box.width * 0.8, box.height])\n",
    "ax.legend(loc='center left', bbox_to_anchor=(1, 0.5))\n",
    "plt.xlabel(\"Step\")\n",
    "plt.ylabel(\"Energy\")\n",
    "plt.grid()\n",
    "plt.show()"
   ]
  },
  {
   "cell_type": "code",
   "execution_count": null,
   "metadata": {},
   "outputs": [],
   "source": [
    "m_magnitude_whole = np.sqrt(np.sum(m_whole**2, axis = 3))"
   ]
  },
  {
   "cell_type": "code",
   "execution_count": null,
   "metadata": {},
   "outputs": [],
   "source": [
    "fig = plt.figure(figsize=(10,6))\n",
    "ax = plt.subplot(111)\n",
    "for i,j in np.ndindex(L_num, T_num):\n",
    "    ax.plot(t_whole[i,j], m_magnitude_whole[i,j], label=f\"L = {L[i]}, T = {T[j]}\")\n",
    "box = ax.get_position()\n",
    "ax.set_position([box.x0, box.y0, box.width * 0.8, box.height])\n",
    "ax.legend(loc='center left', bbox_to_anchor=(1, 0.5))\n",
    "plt.xlabel(\"Step\")\n",
    "plt.ylabel(\"Absolute magnetization\")\n",
    "plt.grid()\n",
    "plt.show()"
   ]
  },
  {
   "cell_type": "markdown",
   "metadata": {},
   "source": [
    "## Single ensemble analysis"
   ]
  },
  {
   "cell_type": "code",
   "execution_count": null,
   "metadata": {},
   "outputs": [],
   "source": [
    "# Insert here index of the ensemble to be analyzed \n",
    "L_idx = 0\n",
    "T_idx = 4"
   ]
  },
  {
   "cell_type": "code",
   "execution_count": null,
   "metadata": {},
   "outputs": [],
   "source": [
    "\"\"\"\n",
    "fig = plt.figure(figsize=(10,6))\n",
    "ax = plt.subplot(111)\n",
    "ax.plot(t_whole[L_idx, T_idx], E_whole[L_idx, T_idx], label=f\"L = {L[L_idx]}, T = {T[T_idx]}\")\n",
    "ax.legend()\n",
    "plt.ylabel(\"Energy\")\n",
    "plt.xlabel(\"Steps\")\n",
    "plt.title(\"Energy\")\n",
    "plt.grid()\n",
    "plt.show()\n",
    "\"\"\""
   ]
  },
  {
   "cell_type": "code",
   "execution_count": null,
   "metadata": {},
   "outputs": [],
   "source": [
    "\"\"\"\n",
    "fig = plt.figure(figsize=(10,6))\n",
    "ax = plt.subplot(111)\n",
    "ax.plot(t_whole[L_idx, T_idx], m_whole[L_idx, T_idx, :, 0], label = r\"$M_x$\")\n",
    "ax.plot(t_whole[L_idx, T_idx], m_whole[L_idx, T_idx, :, 1], label = r\"$M_y$\")\n",
    "ax.plot(t_whole[L_idx, T_idx], m_whole[L_idx, T_idx, :, 2], label = r\"$M_z$\")\n",
    "plt.legend()\n",
    "plt.ylabel(\"Magnetization\")\n",
    "plt.xlabel(\"Steps\")\n",
    "plt.title(\"Magnetization\")\n",
    "plt.grid()\n",
    "plt.show()\n",
    "\"\"\""
   ]
  },
  {
   "cell_type": "code",
   "execution_count": null,
   "metadata": {},
   "outputs": [],
   "source": [
    "\"\"\"\n",
    "fig = plt.figure(figsize=(10,6))\n",
    "ax = plt.subplot(111)\n",
    "ax.plot(t_whole[L_idx, T_idx], np.abs(m_whole[L_idx, T_idx, :, 0]), label = r\"$|M_x|$\")\n",
    "ax.plot(t_whole[L_idx, T_idx], np.abs(m_whole[L_idx, T_idx, :, 1]), label = r\"$|M_y|$\")\n",
    "ax.plot(t_whole[L_idx, T_idx], np.abs(m_whole[L_idx, T_idx, :, 2]), label = r\"$|M_z|$\")\n",
    "plt.legend()\n",
    "plt.ylabel(\"Absolute magnetization\")\n",
    "plt.xlabel(\"Steps\")\n",
    "plt.title(\"Absolute magnetization\")\n",
    "plt.grid()\n",
    "plt.show()\n",
    "\"\"\""
   ]
  },
  {
   "cell_type": "code",
   "execution_count": null,
   "metadata": {},
   "outputs": [],
   "source": [
    "L_idx = -3\n",
    "T_idx = Tc_idx"
   ]
  },
  {
   "cell_type": "code",
   "execution_count": null,
   "metadata": {},
   "outputs": [],
   "source": [
    "fig, ax = plot_state(final_state[L_idx][T_idx], hls = False)\n",
    "ax.view_init(elev=30, azim=-60)\n",
    "fig.show()\n",
    "fig.savefig(out_dir+f\"{setname}_L{L[L_idx]}_T{T[T_idx]}_state.svg\")"
   ]
  },
  {
   "cell_type": "code",
   "execution_count": null,
   "metadata": {},
   "outputs": [],
   "source": [
    "fig, ax = plot_spin_directions(final_state[L_idx][T_idx], hls = False)\n",
    "ax.view_init(elev=30, azim=-60)\n",
    "fig.show()\n",
    "fig.savefig(out_dir+f\"{setname}_L{L[L_idx]}_T{T[T_idx]}_dist.svg\")"
   ]
  },
  {
   "cell_type": "markdown",
   "metadata": {},
   "source": [
    "## System results"
   ]
  },
  {
   "cell_type": "code",
   "execution_count": null,
   "metadata": {},
   "outputs": [],
   "source": [
    "# SELECT WARMUP PERIOD TO LAST UNTIL STEP NUMBER warmup_final_step\n",
    "warmup_end = 0.5e7\n",
    "warmup_final_idx = np.argmax(np.equal(t_whole[0,0], warmup_end))\n",
    "#t_final = 0.5e8\n",
    "#final_idx = np.argmax(np.equal(t_whole[0,0], t_final))\n",
    "final_idx=-1\n",
    "t = t_whole[:, :, warmup_final_idx:final_idx]\n",
    "E = E_whole[:, :, warmup_final_idx:final_idx]\n",
    "m = m_whole[:, :, warmup_final_idx:final_idx]"
   ]
  },
  {
   "cell_type": "code",
   "execution_count": null,
   "metadata": {},
   "outputs": [],
   "source": [
    "E_mean = np.mean(E, axis=2)\n",
    "E_std = np.sqrt(np.var(E, axis=2))\n",
    "\n",
    "e_mean = np.zeros(shape=E_mean.shape)\n",
    "e_std = np.zeros(shape=E_std.shape)\n",
    "for i in range(L_num):\n",
    "    e_mean[i] = E_mean[i]/L[i]**3\n",
    "    e_std[i] = E_std[i]/L[i]**3"
   ]
  },
  {
   "cell_type": "code",
   "execution_count": null,
   "metadata": {},
   "outputs": [],
   "source": [
    "L_idx = -1\n",
    "T_idx = 1\n",
    "\n",
    "fig = plt.figure(figsize=(8,5))\n",
    "E_tbp=E[L_idx,T_idx]\n",
    "#E_tbp = E_tbp[E_tbp>-1e4]\n",
    "sns.distplot(E_tbp)\n",
    "plt.xlabel(\"Energy\")\n",
    "plt.ylabel(\"Frequency\")\n",
    "plt.title(f\"System energy distribution for L = {L[L_idx]}, T = {str(T[T_idx])}\")\n",
    "plt.grid()\n",
    "plt.show()\n",
    "fig.savefig(\"./plots/\"+setname+\"_distribution_test.svg\")"
   ]
  },
  {
   "cell_type": "markdown",
   "metadata": {},
   "source": [
    "### Mean energy"
   ]
  },
  {
   "cell_type": "code",
   "execution_count": null,
   "metadata": {},
   "outputs": [],
   "source": [
    "fig = plt.figure(figsize=(8,5))\n",
    "ax = plt.subplot(111)\n",
    "for i in np.ndindex(L_num):\n",
    "    ax.errorbar(T, E_mean[i], yerr=E_std[i]/2, fmt=\"--.\", label=f\"L = {L[i]}\")\n",
    "box = ax.get_position()\n",
    "ax.legend()\n",
    "plt.title(\"Expected values for system energy\")\n",
    "plt.xlabel(r\"$T$\")\n",
    "plt.ylabel(r\"$\\langle E \\rangle$\")\n",
    "plt.grid()\n",
    "plt.show()\n",
    "fig.savefig(\"./plots/\"+setname+\"_system_energy.svg\")"
   ]
  },
  {
   "cell_type": "code",
   "execution_count": null,
   "metadata": {},
   "outputs": [],
   "source": [
    "fig = plt.figure(figsize=(8,5))\n",
    "ax = plt.subplot(111)\n",
    "for i in np.ndindex(L_num):\n",
    "    ax.errorbar(T, e_mean[i], yerr=e_std[i]/2, fmt=\"--.\", label=f\"L = {L[i]}\")\n",
    "box = ax.get_position()\n",
    "ax.legend()\n",
    "plt.title(\"Expected values for energy per spin\")\n",
    "plt.xlabel(r\"$T$\")\n",
    "plt.ylabel(r\"$\\langle e \\rangle$\")\n",
    "plt.grid()\n",
    "plt.show()\n",
    "fig.savefig(\"./plots/\"+setname+\"_energy_per_spin.svg\")"
   ]
  },
  {
   "cell_type": "markdown",
   "metadata": {},
   "source": [
    "### Mean magnetization magnitude"
   ]
  },
  {
   "cell_type": "code",
   "execution_count": null,
   "metadata": {},
   "outputs": [],
   "source": [
    "m_mean = np.mean(m, axis=2)\n",
    "m_std = np.sqrt(np.var(m, axis=2))\n",
    "m_magnitude = np.sqrt(np.sum(m**2, axis = 3))\n",
    "m_magnitude_mean = np.mean(m_magnitude, axis=2)\n",
    "m_magnitude_std = np.sqrt(np.var(m_magnitude, axis=2))"
   ]
  },
  {
   "cell_type": "code",
   "execution_count": null,
   "metadata": {},
   "outputs": [],
   "source": [
    "fig = plt.figure(figsize=(8,5))\n",
    "ax = plt.subplot(111)\n",
    "for i in np.ndindex(L_num):\n",
    "    ax.errorbar(T, m_magnitude_mean[i], yerr=m_magnitude_std[i]/2,fmt=\"--.\", label=f\"L = {L[i]}\")\n",
    "box = ax.get_position()\n",
    "ax.legend()\n",
    "plt.xlabel(r\"$T$\")\n",
    "plt.ylabel(r\"$\\langle | \\vec{M} | \\rangle$\")\n",
    "plt.grid()\n",
    "plt.title(\"Expected value for system magnetization magnitude\")\n",
    "plt.show()\n",
    "fig.savefig(\"./plots/\"+setname+\"_magnetization_magnitude.svg\")"
   ]
  },
  {
   "cell_type": "markdown",
   "metadata": {},
   "source": [
    "### Heat capacity"
   ]
  },
  {
   "cell_type": "code",
   "execution_count": null,
   "metadata": {},
   "outputs": [],
   "source": [
    "E_var = np.var(E, axis=2)"
   ]
  },
  {
   "cell_type": "code",
   "execution_count": null,
   "metadata": {},
   "outputs": [],
   "source": [
    "cv = np.zeros(shape=(L_num, T_num))\n",
    "for i in np.ndindex(L_num):\n",
    "    cv[i] = E_var[i]/T**2/L[i]**3"
   ]
  },
  {
   "cell_type": "code",
   "execution_count": null,
   "metadata": {},
   "outputs": [],
   "source": [
    "fig = plt.figure(figsize=(8,5))\n",
    "ax = plt.subplot(111)\n",
    "for i in np.ndindex(L_num):\n",
    "    ax.plot(T, cv[i], \":.\", label=f\"L = {L[i]}\")\n",
    "box = ax.get_position()\n",
    "ax.legend()\n",
    "plt.xlabel(\"Temperature\")\n",
    "plt.ylabel(r\"$c_v$\")\n",
    "plt.title(\"Heat capacity per spin\")\n",
    "plt.grid()\n",
    "plt.show()\n",
    "fig.savefig(\"./plots/\"+setname+\"_heat_capacity.svg\")"
   ]
  },
  {
   "cell_type": "markdown",
   "metadata": {},
   "source": [
    "### Suscpetibility"
   ]
  },
  {
   "cell_type": "code",
   "execution_count": null,
   "metadata": {},
   "outputs": [],
   "source": [
    "Tc_idx   = np.argmax(T>1.444)\n",
    "T_nc_max = np.argmax(T>1.5)\n",
    "T_nc_min = np.argmax(T>1.3)\n",
    "\n",
    "T_dis = T[Tc_idx:]\n",
    "T_ord = T[:Tc_idx]\n",
    "T_dis_nc = T[Tc_idx:T_nc_max]\n",
    "T_ord_nc = T[T_nc_min:Tc_idx]"
   ]
  },
  {
   "cell_type": "code",
   "execution_count": null,
   "metadata": {},
   "outputs": [],
   "source": [
    "def cov(X,i,j):\n",
    "    X_mean = np.mean(X, axis=2)\n",
    "    ret = np.zeros(shape=(L_num, T_num))\n",
    "    for l,t in np.ndindex(L_num, T_num):\n",
    "        ret[l,t] = np.mean((X[l,t,:,i]-X_mean[l,t,i])*(X[l,t,:,j]-X_mean[l,t,j]))\n",
    "    return ret"
   ]
  },
  {
   "cell_type": "code",
   "execution_count": null,
   "metadata": {},
   "outputs": [],
   "source": [
    "chi_xx = np.zeros(shape=(L_num, T_num))\n",
    "chi_yy = np.zeros(shape=(L_num, T_num))\n",
    "chi_zz = np.zeros(shape=(L_num, T_num))\n",
    "chi_xy = np.zeros(shape=(L_num, T_num))\n",
    "chi_yz = np.zeros(shape=(L_num, T_num))\n",
    "chi_zx = np.zeros(shape=(L_num, T_num))\n",
    "\n",
    "for i in np.ndindex(L_num):\n",
    "    chi_xx[i] = cov(m,0,0)[i]/T*L[i]**3\n",
    "    chi_yy[i] = cov(m,1,1)[i]/T*L[i]**3\n",
    "    chi_zz[i] = cov(m,2,2)[i]/T*L[i]**3\n",
    "    chi_xy[i] = cov(m,0,1)[i]/T*L[i]**3\n",
    "    chi_yz[i] = cov(m,1,2)[i]/T*L[i]**3\n",
    "    chi_zx[i] = cov(m,2,0)[i]/T*L[i]**3"
   ]
  },
  {
   "cell_type": "code",
   "execution_count": null,
   "metadata": {},
   "outputs": [],
   "source": [
    "m_dis = m[:,Tc_idx:]\n",
    "m_ord = m[:,:Tc_idx]\n",
    "\n",
    "chi_xx_dis = chi_xx[:, Tc_idx:]\n",
    "chi_yy_dis = chi_yy[:, Tc_idx:]\n",
    "chi_zz_dis = chi_zz[:, Tc_idx:]\n",
    "chi_xy_dis = chi_xy[:, Tc_idx:]\n",
    "chi_yz_dis = chi_yz[:, Tc_idx:]\n",
    "chi_zx_dis = chi_zx[:, Tc_idx:]"
   ]
  },
  {
   "cell_type": "code",
   "execution_count": null,
   "metadata": {},
   "outputs": [],
   "source": [
    "fig = plt.figure(figsize=(8,5))\n",
    "ax = plt.subplot(111)\n",
    "for i in np.ndindex(L_num):\n",
    "    ax.plot(T[Tc_idx:], chi_zz[i][Tc_idx:], \"--.\", label=f\"L = {L[i]}\")\n",
    "box = ax.get_position()\n",
    "ax.legend()\n",
    "plt.xlabel(\"Temperature\")\n",
    "plt.ylabel(r\"$\\chi_{zz}$\")\n",
    "plt.title(\"Magnetic susceptibility per spin\")\n",
    "plt.grid()\n",
    "plt.show()\n",
    "fig.savefig(\"./plots/\"+setname+\"_susceptibility.svg\")"
   ]
  },
  {
   "cell_type": "code",
   "execution_count": null,
   "metadata": {},
   "outputs": [],
   "source": [
    "L_idx = -1\n",
    "\n",
    "fig = plt.figure(figsize=(10,6))\n",
    "ax = plt.subplot(111)\n",
    "ax.plot(T_dis, chi_xx_dis[L_idx], \".--\", label=r\"$\\chi_{xx}$\")\n",
    "ax.plot(T_dis, chi_yy_dis[L_idx], \".--\", label=r\"$\\chi_{yy}$\")\n",
    "ax.plot(T_dis, chi_zz_dis[L_idx], \".--\", label=r\"$\\chi_{zz}$\")\n",
    "ax.plot(T_dis, chi_xy_dis[L_idx], \".--\", label=r\"$\\chi_{xy}$\")\n",
    "ax.plot(T_dis, chi_yz_dis[L_idx], \".--\", label=r\"$\\chi_{yz}$\")\n",
    "ax.plot(T_dis, chi_zx_dis[L_idx], \".--\", label=r\"$\\chi_{zx}$\")\n",
    "box = ax.get_position()\n",
    "ax.set_position([box.x0, box.y0, box.width * 0.8, box.height])\n",
    "ax.legend(loc='center left', bbox_to_anchor=(1, 0.5))\n",
    "plt.xlabel(\"Temperature\")\n",
    "plt.ylabel(r\"$\\chi_{zz}$\")\n",
    "plt.title(f\"Susceptibility for L = {L[L_idx]}\")\n",
    "plt.grid()\n",
    "plt.show()\n",
    "fig.savefig(\"./plots/\"+setname+f\"_L{L[L_idx]}_susceptibility.svg\")"
   ]
  },
  {
   "cell_type": "markdown",
   "metadata": {},
   "source": [
    "### Binder ratio"
   ]
  },
  {
   "cell_type": "code",
   "execution_count": null,
   "metadata": {},
   "outputs": [],
   "source": [
    "binder = 1 - (1/3)*np.mean(m_magnitude**4, axis=2)/(np.mean(m_magnitude**2, axis=2)**2)"
   ]
  },
  {
   "cell_type": "code",
   "execution_count": null,
   "metadata": {},
   "outputs": [],
   "source": [
    "fig = plt.figure(figsize=(8,5))\n",
    "ax = plt.subplot(111)\n",
    "for i in np.ndindex(L_num):\n",
    "    ax.plot(T, binder[i], '--.', label=f\"L = {L[i]}\")\n",
    "box = ax.get_position()\n",
    "ax.legend()\n",
    "plt.ylabel(r\"Binder ratio\")\n",
    "plt.xlabel(r\"T\")\n",
    "plt.title(\"Binder ratio\")\n",
    "plt.grid()\n",
    "plt.show()\n",
    "fig.savefig(\"plots/\"+setname+\"_binder.svg\")"
   ]
  },
  {
   "cell_type": "code",
   "execution_count": null,
   "metadata": {},
   "outputs": [],
   "source": [
    "fig = plt.figure(figsize=(8,5))\n",
    "ax = plt.subplot(111)\n",
    "for i in np.ndindex(L_num):\n",
    "    ax.plot(T[11:-11], binder[i][11:-11], '--.', label=f\"L = {L[i]}\")\n",
    "box = ax.get_position()\n",
    "ax.legend()\n",
    "plt.ylabel(r\"Binder ratio\")\n",
    "plt.xlabel(r\"T\")\n",
    "plt.title(\"Binder ratio\")\n",
    "plt.grid()\n",
    "plt.show()\n",
    "fig.savefig(\"plots/\"+setname+\"_binder_zoomed.svg\")"
   ]
  },
  {
   "cell_type": "code",
   "execution_count": null,
   "metadata": {},
   "outputs": [],
   "source": [
    "m2 = np.mean(m_magnitude**2, axis=2)\n",
    "m4 = np.mean(m_magnitude**4, axis=2)\n",
    "m2E = np.mean(E*m_magnitude**2, axis=2)\n",
    "m4E = np.mean(E*m_magnitude**4, axis=2)\n",
    "\n",
    "dbinder = (1-binder)*(E_mean - 2*m2E/m2 + m4E/m4)"
   ]
  },
  {
   "cell_type": "code",
   "execution_count": null,
   "metadata": {},
   "outputs": [],
   "source": [
    "fig = plt.figure(figsize=(8,5))\n",
    "ax = plt.subplot(111)\n",
    "for i in np.ndindex(L_num):\n",
    "    ax.plot(T, dbinder[i], '--.', label=f\"L = {L[i]}\")\n",
    "box = ax.get_position()\n",
    "ax.legend()\n",
    "plt.ylabel(r\"$\\frac{d U_L}{d \\beta} $\")\n",
    "plt.xlabel(r\"T\")\n",
    "plt.title(\"Binder ratio derivative\")\n",
    "plt.grid()\n",
    "plt.show()"
   ]
  },
  {
   "cell_type": "markdown",
   "metadata": {},
   "source": [
    "### Critical indices"
   ]
  },
  {
   "cell_type": "code",
   "execution_count": null,
   "metadata": {},
   "outputs": [],
   "source": [
    "slope, intercept, r_value, p_value, std_err = stats.linregress(np.log(L), np.log(chi_zz[:,Tc_idx]))\n",
    "gamma_nu = slope\n",
    "gamma_nu_u = std_err"
   ]
  },
  {
   "cell_type": "code",
   "execution_count": null,
   "metadata": {},
   "outputs": [],
   "source": [
    "fig = plt.figure(figsize=(8,5))\n",
    "ax = plt.subplot(111)\n",
    "ax.set_xscale('log')\n",
    "ax.set_yscale('log')\n",
    "plt.scatter(L, chi_zz[:,Tc_idx])\n",
    "plt.plot(L, np.exp(intercept)*L**(slope), \":\")\n",
    "slope_str=\"{0:.3}\".format(slope)\n",
    "std_str=\"{0:.3}\".format(std_err)\n",
    "plt.text(10,65,fr\"$slope = {slope_str}\\pm{std_str}$\", fontsize=11)\n",
    "plt.grid(True, which=\"both\")\n",
    "plt.xlabel(r\"$L$\")\n",
    "plt.ylabel(r\"$\\chi_{zz}$\")\n",
    "plt.title(f\"T=1.445\")\n",
    "plt.show()\n",
    "fig.savefig(\"./plots/\"+setname+\"_gamma_nu.svg\")"
   ]
  },
  {
   "cell_type": "code",
   "execution_count": null,
   "metadata": {},
   "outputs": [],
   "source": [
    "print(\"gamma_nu =\", gamma_nu)\n",
    "print(\"gamma_nu_u =\", gamma_nu_u)"
   ]
  },
  {
   "cell_type": "code",
   "execution_count": null,
   "metadata": {},
   "outputs": [],
   "source": [
    "slope, intercept, r_value, p_value, std_err = stats.linregress(np.log(L), np.log(m_magnitude_mean[:,Tc_idx]))\n",
    "beta_nu = -slope\n",
    "beta_nu_u = std_err"
   ]
  },
  {
   "cell_type": "code",
   "execution_count": null,
   "metadata": {},
   "outputs": [],
   "source": [
    "fig = plt.figure(figsize=(8,5))\n",
    "ax = plt.subplot(111)\n",
    "ax.set_xscale('log')\n",
    "ax.set_yscale('log')\n",
    "plt.scatter(L, m_magnitude_mean[:,Tc_idx])\n",
    "plt.plot(L, np.exp(intercept)*L**(slope), \":\")\n",
    "\n",
    "slope_str=\"{0:.4}\".format(slope)\n",
    "std_str=\"{0:.3}\".format(std_err)\n",
    "plt.text(15,3.1e-1,fr\"$slope = {slope_str}\\pm{std_str}$\", fontsize=11)\n",
    "\n",
    "plt.grid(True, which=\"both\")\n",
    "plt.xlabel(r\"$L$\")\n",
    "plt.ylabel(r\"$\\langle m\\rangle$\")\n",
    "plt.title(f\"T=1.445\")\n",
    "plt.show()\n",
    "fig.savefig(\"./plots/\"+setname+\"_beta_nu.svg\")"
   ]
  },
  {
   "cell_type": "code",
   "execution_count": null,
   "metadata": {},
   "outputs": [],
   "source": [
    "print(\"beta_nu =\", beta_nu)\n",
    "print(\"beta_nu_u =\", beta_nu_u)"
   ]
  },
  {
   "cell_type": "code",
   "execution_count": null,
   "metadata": {},
   "outputs": [],
   "source": [
    "slope, intercept, r_value, p_value, std_err = stats.linregress(np.log(L), np.log(dbinder[:,Tc_idx]))\n",
    "nu = slope\n",
    "nu_u = std_err"
   ]
  },
  {
   "cell_type": "code",
   "execution_count": null,
   "metadata": {},
   "outputs": [],
   "source": [
    "fig = plt.figure(figsize=(8,5))\n",
    "ax = plt.subplot(111)\n",
    "ax.set_xscale('log')\n",
    "ax.set_yscale('log')\n",
    "plt.scatter(L, dbinder[:,Tc_idx])\n",
    "plt.plot(L, np.exp(intercept)*L**(slope), \":\")\n",
    "\n",
    "slope_str=\"{0:.3}\".format(slope)\n",
    "std_str=\"{0:.3}\".format(std_err)\n",
    "plt.text(10,3,fr\"$slope = {slope_str} \\pm {std_str}$\", fontsize=11)\n",
    "plt.grid(True, which=\"both\")\n",
    "plt.xlabel(r\"$L$\")\n",
    "plt.ylabel(r\"$\\langle \\frac{d U_L}{d \\beta } \\rangle$\")\n",
    "plt.title(f\"T=1.445\")\n",
    "plt.show()\n",
    "fig.savefig(\"./plots/\"+setname+\"_nu.svg\")"
   ]
  },
  {
   "cell_type": "code",
   "execution_count": null,
   "metadata": {},
   "outputs": [],
   "source": [
    "print(\"nu =\", nu)\n",
    "print(\"nu_u =\", nu_u)"
   ]
  },
  {
   "cell_type": "code",
   "execution_count": null,
   "metadata": {},
   "outputs": [],
   "source": [
    "gamma = gamma_nu * nu\n",
    "gamma_u = gamma * np.sqrt((nu_u/nu)**2 + (gamma_nu_u/gamma_nu)**2 )\n",
    "print(\"gamma = \", gamma) \n",
    "print(\"gamma_u = \", gamma_u) "
   ]
  },
  {
   "cell_type": "code",
   "execution_count": null,
   "metadata": {
    "scrolled": true
   },
   "outputs": [],
   "source": [
    "beta = beta_nu * nu\n",
    "beta_u = beta * np.sqrt( (beta_nu_u/beta_nu)**2 + (nu_u/nu)**2 )\n",
    "print(\"beta = \", beta) \n",
    "print(\"beta_u = \", beta_u) "
   ]
  },
  {
   "cell_type": "code",
   "execution_count": null,
   "metadata": {},
   "outputs": [],
   "source": [
    "alpha = 2 - 3 * nu\n",
    "alpha_u = 3*nu_u\n",
    "print(\"alpha = \", alpha) \n",
    "print(\"alpha_u = \", alpha_u) "
   ]
  },
  {
   "cell_type": "code",
   "execution_count": null,
   "metadata": {},
   "outputs": [],
   "source": [
    "delta = 1 + gamma_nu/beta_nu\n",
    "delta_u = delta * np.sqrt((gamma_nu_u/gamma_nu)**2 + (beta_nu_u/beta_nu)**2)"
   ]
  },
  {
   "cell_type": "code",
   "execution_count": null,
   "metadata": {},
   "outputs": [],
   "source": [
    "print(\"delta = \", delta) \n",
    "print(\"delta_u = \", delta_u) "
   ]
  },
  {
   "cell_type": "code",
   "execution_count": null,
   "metadata": {},
   "outputs": [],
   "source": [
    "eta = 2 - gamma_nu"
   ]
  },
  {
   "cell_type": "code",
   "execution_count": null,
   "metadata": {},
   "outputs": [],
   "source": [
    "print(\"eta = \", eta) \n",
    "print(\"eta_u = \", gamma_nu_u) "
   ]
  },
  {
   "cell_type": "markdown",
   "metadata": {},
   "source": [
    "## Spatial correlation"
   ]
  },
  {
   "cell_type": "code",
   "execution_count": null,
   "metadata": {},
   "outputs": [],
   "source": [
    "r = [[None] * T_num for _ in range(L_num)]\n",
    "c = [[None] * T_num for _ in range(L_num)]\n",
    "\n",
    "for i, j in np.ndindex(L_num, T_num):\n",
    "    r[i][j], c[i][j] = radial_distribution(spatial_correlation_matrix(final_state[i][j]))\n"
   ]
  },
  {
   "cell_type": "code",
   "execution_count": null,
   "metadata": {},
   "outputs": [],
   "source": [
    "fig = plt.figure(figsize=(8,5))\n",
    "ax = plt.subplot(111)\n",
    "for i in range(L_num):\n",
    "    ax.plot(r[i][Tc_idx],c[i][Tc_idx], '--.', label=f\"L = {L[i]}\")\n",
    "ax.legend()\n",
    "ax.set_xlim([0, 5])\n",
    "plt.ylabel(r\"$C(r)$\")\n",
    "plt.xlabel(r\"$r$\")\n",
    "plt.title(\"Spatial correlation\")\n",
    "plt.grid()\n",
    "plt.show()\n",
    "fig.savefig(\"./plots/\"+setname+\"_spatial_correlation.svg\")\n",
    "\n"
   ]
  },
  {
   "cell_type": "code",
   "execution_count": null,
   "metadata": {},
   "outputs": [],
   "source": [
    "rr = [[None] * T_num for _ in range(L_num)]\n",
    "cc = [[None] * T_num for _ in range(L_num)]\n",
    "\n",
    "for i, j in np.ndindex(L_num, T_num):\n",
    "    rr[i][j] = r[i][j][:6]\n",
    "    cc[i][j] = c[i][j][:6]"
   ]
  },
  {
   "cell_type": "code",
   "execution_count": null,
   "metadata": {},
   "outputs": [],
   "source": [
    "TT = Tc_idx\n",
    "\n",
    "fig = plt.figure(figsize=(8,5))\n",
    "ax = plt.subplot(111)\n",
    "ax.set_xlim([0,2.4])\n",
    "for i in range(L_num):\n",
    "    ax.plot(rr[i][TT], cc[i][TT], '--.', label=f\"L = {L[i]}\")\n",
    "ax.set_yscale('log')\n",
    "ax.legend()\n",
    "plt.ylabel(r\"$\\log C(r) $\")\n",
    "plt.xlabel(r\"$r$\")\n",
    "plt.title(r\"Logarithm of $C(r)$\")\n",
    "plt.grid()\n",
    "plt.show()\n",
    "\n"
   ]
  },
  {
   "cell_type": "code",
   "execution_count": null,
   "metadata": {},
   "outputs": [],
   "source": [
    "slope = np.zeros((L_num, T_num))\n",
    "intercept = np.zeros((L_num, T_num))\n",
    "for i,j in np.ndindex(L_num, T_num):\n",
    "    i = int(i)\n",
    "    j = int(j)\n",
    "    slope[i,j], intercept[i,j], r_value, p_value, std_err = stats.linregress(rr[i][j], np.nan_to_num(np.log(cc[i][j])))"
   ]
  },
  {
   "cell_type": "code",
   "execution_count": null,
   "metadata": {
    "scrolled": true
   },
   "outputs": [],
   "source": [
    "slope[0]"
   ]
  },
  {
   "cell_type": "code",
   "execution_count": null,
   "metadata": {},
   "outputs": [],
   "source": []
  }
 ],
 "metadata": {
  "kernelspec": {
   "display_name": "Python 3",
   "language": "python",
   "name": "python3"
  },
  "language_info": {
   "codemirror_mode": {
    "name": "ipython",
    "version": 3
   },
   "file_extension": ".py",
   "mimetype": "text/x-python",
   "name": "python",
   "nbconvert_exporter": "python",
   "pygments_lexer": "ipython3",
   "version": "3.6.6"
  }
 },
 "nbformat": 4,
 "nbformat_minor": 2
}
