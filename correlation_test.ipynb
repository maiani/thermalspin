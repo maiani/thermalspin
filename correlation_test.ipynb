{
 "cells": [
  {
   "cell_type": "markdown",
   "metadata": {},
   "source": [
    "#     RESULTS OF THE  SIMULATION"
   ]
  },
  {
   "cell_type": "markdown",
   "metadata": {},
   "source": [
    "## Loading results"
   ]
  },
  {
   "cell_type": "code",
   "execution_count": null,
   "metadata": {},
   "outputs": [],
   "source": [
    "import numpy as np\n",
    "\n",
    "import matplotlib.pyplot as plt\n",
    "\n",
    "from thermalspin.data_analysis  import *"
   ]
  },
  {
   "cell_type": "code",
   "execution_count": null,
   "metadata": {},
   "outputs": [],
   "source": [
    "%matplotlib notebook"
   ]
  },
  {
   "cell_type": "code",
   "execution_count": null,
   "metadata": {},
   "outputs": [],
   "source": [
    "setname=\"correlation_test_2D\"\n",
    "final_state_lst, L_lst, t_lst, J_lst, h_lst, T_lst, e_lst, m_lst, snp_lst = \\\n",
    "load_set_results(setname, load_set_snapshots=True)"
   ]
  },
  {
   "cell_type": "code",
   "execution_count": null,
   "metadata": {},
   "outputs": [],
   "source": [
    "L, T, t_whole, J_whole, h_whole, e_whole, m_whole, final_state, snp = \\\n",
    "arrange_set_results_LT(L_lst, t_lst, J_lst, h_lst, T_lst, e_lst, m_lst, final_state_lst, snapshots_lst=snp_lst)\n",
    "L_num = t_whole.shape[0]\n",
    "T_num = t_whole.shape[1]\n",
    "t_num = t_whole.shape[2]"
   ]
  },
  {
   "cell_type": "code",
   "execution_count": null,
   "metadata": {},
   "outputs": [],
   "source": [
    "fig = plt.figure(figsize=(8,5))\n",
    "ax = plt.subplot(111)\n",
    "for i,j in np.ndindex(L_num, T_num):\n",
    "    ax.plot(t_whole[i,j], e_whole[i,j], label=f\"L = {L[i]}, T = {T[j]}\")\n",
    "box = ax.get_position()\n",
    "ax.set_position([box.x0, box.y0, box.width * 0.8, box.height])\n",
    "ax.legend(loc='center left', bbox_to_anchor=(1, 0.5))\n",
    "plt.xlabel(\"Step\")\n",
    "plt.ylabel(\"Energy\")\n",
    "plt.grid()\n",
    "plt.show()\n",
    "fig.savefig(\"./plots/\"+setname+\"_energy.svg\")"
   ]
  },
  {
   "cell_type": "code",
   "execution_count": null,
   "metadata": {},
   "outputs": [],
   "source": [
    "cut = np.argmax(t_whole[0,0]==100000)\n",
    "e_cutted = np.zeros(shape=(L_num, T_num, t_num-cut))\n",
    "for i,j in np.ndindex(L_num, T_num):\n",
    "    e_cutted[i,j] = e_whole[i,j,cut:]"
   ]
  },
  {
   "cell_type": "code",
   "execution_count": null,
   "metadata": {},
   "outputs": [],
   "source": [
    "plt.figure(figsize=(8,5))\n",
    "plt.hist(e_cutted[2,0], bins=40)\n",
    "plt.xlabel(\"Energy\")\n",
    "plt.ylabel(\"Frequency\")\n",
    "plt.grid()\n",
    "plt.show()"
   ]
  },
  {
   "cell_type": "code",
   "execution_count": null,
   "metadata": {},
   "outputs": [],
   "source": [
    "plot_state(final_state[1][0])"
   ]
  },
  {
   "cell_type": "markdown",
   "metadata": {},
   "source": [
    "### Time correlation function"
   ]
  },
  {
   "cell_type": "code",
   "execution_count": null,
   "metadata": {},
   "outputs": [],
   "source": [
    "t_cut         = t_whole[0,0,cut:] - t_whole[0,0,cut]\n",
    "snp_cut= [[None]*T_num for _ in range(L_num)]\n",
    "for i,j in np.ndindex(L_num, T_num):\n",
    "    snp_cut[i][j] = snp[i][j][cut:]"
   ]
  },
  {
   "cell_type": "code",
   "execution_count": null,
   "metadata": {},
   "outputs": [],
   "source": [
    "tc = np.zeros(shape=(L_num, t_cut.shape[0]))"
   ]
  },
  {
   "cell_type": "code",
   "execution_count": null,
   "metadata": {},
   "outputs": [],
   "source": [
    "for i,j in np.ndindex(L_num, t_cut.shape[0]):\n",
    "    tc[i, j] =  time_correlation(snp_cut[i][0][0], snp_cut[i][0][j])"
   ]
  },
  {
   "cell_type": "code",
   "execution_count": null,
   "metadata": {},
   "outputs": [],
   "source": [
    "fig = plt.figure(figsize=(8,5))\n",
    "ax = plt.subplot(111)\n",
    "for i in np.ndindex(L_num):\n",
    "    ax.plot(t_cut,tc[i], label=f\"$L={L[i]}$\")\n",
    "ax.set_xlim([0, 50000])\n",
    "plt.xlabel(\"Step\")\n",
    "plt.ylabel(r\"$C(\\tau)$\")\n",
    "plt.title(\"Time correlation\")\n",
    "plt.legend()\n",
    "plt.grid()\n",
    "plt.show()\n",
    "fig.savefig(\"./plots/\"+setname+\"_time_correlation.svg\")"
   ]
  },
  {
   "cell_type": "code",
   "execution_count": null,
   "metadata": {},
   "outputs": [],
   "source": []
  }
 ],
 "metadata": {
  "kernelspec": {
   "display_name": "Python 3",
   "language": "python",
   "name": "python3"
  },
  "language_info": {
   "codemirror_mode": {
    "name": "ipython",
    "version": 3
   },
   "file_extension": ".py",
   "mimetype": "text/x-python",
   "name": "python",
   "nbconvert_exporter": "python",
   "pygments_lexer": "ipython3",
   "version": "3.6.6"
  }
 },
 "nbformat": 4,
 "nbformat_minor": 2
}
