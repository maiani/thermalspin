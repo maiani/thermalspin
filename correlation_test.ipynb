{
 "cells": [
  {
   "cell_type": "markdown",
   "metadata": {},
   "source": [
    "#     RESULTS OF THE  SIMULATION"
   ]
  },
  {
   "cell_type": "markdown",
   "metadata": {},
   "source": [
    "## Loading results"
   ]
  },
  {
   "cell_type": "code",
   "execution_count": null,
   "metadata": {},
   "outputs": [],
   "source": [
    "import numpy as np\n",
    "import matplotlib.pyplot as plt\n",
    "from data_analysis  import *"
   ]
  },
  {
   "cell_type": "code",
   "execution_count": null,
   "metadata": {},
   "outputs": [],
   "source": [
    "%matplotlib notebook"
   ]
  },
  {
   "cell_type": "code",
   "execution_count": null,
   "metadata": {},
   "outputs": [],
   "source": [
    "simname = \"correlation_test/test18\"\n",
    "final_state18, t18, J18, Hz18, T18, e18, m18 = load_results(simname)\n",
    "snapshots18 = load_snapshots(simname)"
   ]
  },
  {
   "cell_type": "code",
   "execution_count": null,
   "metadata": {},
   "outputs": [],
   "source": [
    "simname = \"correlation_test/test20\"\n",
    "final_state20, t20, J20, Hz20, T20, e20, m20= load_results(simname)\n",
    "snapshots20 = load_snapshots(simname)"
   ]
  },
  {
   "cell_type": "code",
   "execution_count": null,
   "metadata": {},
   "outputs": [],
   "source": [
    "simname = \"correlation_test/test22\"\n",
    "final_state22, t22, J22, Hz22, T22, e22, m22 = load_results(simname)\n",
    "snapshots22 = load_snapshots(simname)"
   ]
  },
  {
   "cell_type": "code",
   "execution_count": null,
   "metadata": {},
   "outputs": [],
   "source": [
    "simname = \"correlation_test/test24\"\n",
    "final_state24, t24, J24, Hz24, T24, e24, m24 = load_results(simname)\n",
    "snapshots24 = load_snapshots(simname)"
   ]
  },
  {
   "cell_type": "code",
   "execution_count": null,
   "metadata": {},
   "outputs": [],
   "source": [
    "fig = plt.figure(figsize=(8,5))\n",
    "ax = plt.subplot(111)\n",
    "ax.plot(t18,e18, label=r\"$L=18$\")\n",
    "ax.plot(t20,e20, label=r\"$L=20$\")\n",
    "ax.plot(t22,e22, label=r\"$L=22$\")\n",
    "ax.plot(t24,e24, label=r\"$L=24$\")\n",
    "ax.set_xlim([0,600000])\n",
    "plt.xlabel(\"Step\")\n",
    "plt.ylabel(\"Energy\")\n",
    "plt.title(\"Energy\")\n",
    "plt.legend()\n",
    "plt.grid()\n",
    "plt.show()\n",
    "fig.savefig(\"plots/time_correlation_energy.svg\")"
   ]
  },
  {
   "cell_type": "code",
   "execution_count": null,
   "metadata": {},
   "outputs": [],
   "source": [
    "cut = np.argmax(t18==200000)\n",
    "e_cutted18 = e18[cut:]\n",
    "e_cutted20 = e20[cut:]\n",
    "e_cutted22 = e22[cut:]\n",
    "e_cutted24 = e24[cut:]"
   ]
  },
  {
   "cell_type": "code",
   "execution_count": null,
   "metadata": {},
   "outputs": [],
   "source": [
    "plt.figure(figsize=(8,5))\n",
    "plt.hist(e_cutted18, bins=40)\n",
    "plt.xlabel(\"Energy\")\n",
    "plt.ylabel(\"Frequency\")\n",
    "plt.grid()\n",
    "plt.show()"
   ]
  },
  {
   "cell_type": "markdown",
   "metadata": {},
   "source": [
    "### Time correlation function"
   ]
  },
  {
   "cell_type": "code",
   "execution_count": null,
   "metadata": {},
   "outputs": [],
   "source": [
    "t_cut         = t18[cut:] - t18[cut]\n",
    "snapshots18_cut = snapshots18[cut:]\n",
    "snapshots20_cut = snapshots20[cut:]\n",
    "snapshots22_cut = snapshots22[cut:]\n",
    "snapshots24_cut = snapshots24[cut:]"
   ]
  },
  {
   "cell_type": "code",
   "execution_count": null,
   "metadata": {},
   "outputs": [],
   "source": [
    "tc18 = np.zeros(t_cut.shape)\n",
    "for i in range(t_cut.shape[0]):\n",
    "    tc18[i] = time_correlation(snapshots18_cut[0], snapshots18_cut[i])"
   ]
  },
  {
   "cell_type": "code",
   "execution_count": null,
   "metadata": {},
   "outputs": [],
   "source": [
    "tc20 = np.zeros(t_cut.shape)\n",
    "for i in range(t_cut.shape[0]):\n",
    "    tc20[i] = time_correlation(snapshots20_cut[0], snapshots20_cut[i])"
   ]
  },
  {
   "cell_type": "code",
   "execution_count": null,
   "metadata": {},
   "outputs": [],
   "source": [
    "tc22 = np.zeros(t_cut.shape)\n",
    "for i in range(t_cut.shape[0]):\n",
    "    tc22[i] = time_correlation(snapshots22_cut[0], snapshots22_cut[i])"
   ]
  },
  {
   "cell_type": "code",
   "execution_count": null,
   "metadata": {},
   "outputs": [],
   "source": [
    "tc24 = np.zeros(t_cut.shape)\n",
    "for i in range(t_cut.shape[0]):\n",
    "    tc24[i] = time_correlation(snapshots24_cut[0], snapshots24_cut[i])"
   ]
  },
  {
   "cell_type": "code",
   "execution_count": null,
   "metadata": {},
   "outputs": [],
   "source": [
    "fig = plt.figure(figsize=(8,5))\n",
    "ax = plt.subplot(111)\n",
    "ax.plot(t_cut,tc18, label=r\"$L=18$\")\n",
    "ax.plot(t_cut,tc20, label=r\"$L=20$\")\n",
    "ax.plot(t_cut,tc22, label=r\"$L=22$\")\n",
    "ax.plot(t_cut,tc24, label=r\"$L=24$\")\n",
    "ax.set_xlim([0, 400000])\n",
    "plt.xlabel(\"Step\")\n",
    "plt.ylabel(\"Time correlation\")\n",
    "plt.title(\"Time correlation\")\n",
    "plt.legend()\n",
    "plt.grid()\n",
    "plt.show()\n",
    "fig.savefig(\"plots/time_correlation.svg\")"
   ]
  }
 ],
 "metadata": {
  "kernelspec": {
   "display_name": "Python 3",
   "language": "python",
   "name": "python3"
  },
  "language_info": {
   "codemirror_mode": {
    "name": "ipython",
    "version": 3
   },
   "file_extension": ".py",
   "mimetype": "text/x-python",
   "name": "python",
   "nbconvert_exporter": "python",
   "pygments_lexer": "ipython3",
   "version": "3.6.6"
  }
 },
 "nbformat": 4,
 "nbformat_minor": 2
}
